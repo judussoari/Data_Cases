{
 "cells": [
  {
   "cell_type": "markdown",
   "metadata": {},
   "source": [
    "## Simple Data Science Case: Bike Sharing\n",
    "\n",
    " the business task is defined as searching for differences in the two identified kinds of users in order to make a focused marketing campaign to the “casual” users in order for them to change to the annual subscription, or resumed in a question:\n",
    " \n",
    "https://www.kaggle.com/code/julenaranguren/cyclistic-bike-share-a-case-study/notebook"
   ]
  },
  {
   "cell_type": "code",
   "execution_count": 1,
   "metadata": {},
   "outputs": [],
   "source": [
    "import numpy as np\n",
    "import pandas as pd\n",
    "import seaborn as sns\n",
    "import matplotlib.pyplot as plt\n",
    "%matplotlib inline\n",
    "import os"
   ]
  },
  {
   "cell_type": "code",
   "execution_count": 2,
   "metadata": {},
   "outputs": [
    {
     "data": {
      "text/plain": [
       "['202011-divvy-tripdata.csv',\n",
       " '202012-divvy-tripdata.csv',\n",
       " '202101-divvy-tripdata.csv',\n",
       " '202102-divvy-tripdata.csv',\n",
       " '202103-divvy-tripdata.csv',\n",
       " '202010-divvy-tripdata.csv']"
      ]
     },
     "execution_count": 2,
     "metadata": {},
     "output_type": "execute_result"
    }
   ],
   "source": [
    "os.listdir('../data/Bike Sharing/')"
   ]
  },
  {
   "cell_type": "code",
   "execution_count": 3,
   "metadata": {},
   "outputs": [],
   "source": [
    "df_dict = {}\n",
    "for i, filename in enumerate(os.listdir('../data/Bike Sharing/')):\n",
    "    df_dict[i] = pd.read_csv('../data/Bike Sharing/' + filename)"
   ]
  },
  {
   "cell_type": "code",
   "execution_count": 4,
   "metadata": {},
   "outputs": [
    {
     "name": "stdout",
     "output_type": "stream",
     "text": [
      "Index(['ride_id', 'rideable_type', 'started_at', 'ended_at',\n",
      "       'start_station_name', 'start_station_id', 'end_station_name',\n",
      "       'end_station_id', 'start_lat', 'start_lng', 'end_lat', 'end_lng',\n",
      "       'member_casual'],\n",
      "      dtype='object')\n",
      "Index(['ride_id', 'rideable_type', 'started_at', 'ended_at',\n",
      "       'start_station_name', 'start_station_id', 'end_station_name',\n",
      "       'end_station_id', 'start_lat', 'start_lng', 'end_lat', 'end_lng',\n",
      "       'member_casual'],\n",
      "      dtype='object')\n",
      "Index(['ride_id', 'rideable_type', 'started_at', 'ended_at',\n",
      "       'start_station_name', 'start_station_id', 'end_station_name',\n",
      "       'end_station_id', 'start_lat', 'start_lng', 'end_lat', 'end_lng',\n",
      "       'member_casual'],\n",
      "      dtype='object')\n",
      "Index(['ride_id', 'rideable_type', 'started_at', 'ended_at',\n",
      "       'start_station_name', 'start_station_id', 'end_station_name',\n",
      "       'end_station_id', 'start_lat', 'start_lng', 'end_lat', 'end_lng',\n",
      "       'member_casual'],\n",
      "      dtype='object')\n",
      "Index(['ride_id', 'rideable_type', 'started_at', 'ended_at',\n",
      "       'start_station_name', 'start_station_id', 'end_station_name',\n",
      "       'end_station_id', 'start_lat', 'start_lng', 'end_lat', 'end_lng',\n",
      "       'member_casual'],\n",
      "      dtype='object')\n",
      "Index(['ride_id', 'rideable_type', 'started_at', 'ended_at',\n",
      "       'start_station_name', 'start_station_id', 'end_station_name',\n",
      "       'end_station_id', 'start_lat', 'start_lng', 'end_lat', 'end_lng',\n",
      "       'member_casual'],\n",
      "      dtype='object')\n"
     ]
    }
   ],
   "source": [
    "for i, df in df_dict.items():\n",
    "    print(df.columns)"
   ]
  },
  {
   "cell_type": "code",
   "execution_count": 5,
   "metadata": {},
   "outputs": [],
   "source": [
    "df = pd.DataFrame()\n",
    "\n",
    "for i, df_i in df_dict.items():\n",
    "    df = pd.concat((df, df_i), axis=0)"
   ]
  },
  {
   "cell_type": "code",
   "execution_count": 6,
   "metadata": {},
   "outputs": [
    {
     "data": {
      "text/html": [
       "<div>\n",
       "<style scoped>\n",
       "    .dataframe tbody tr th:only-of-type {\n",
       "        vertical-align: middle;\n",
       "    }\n",
       "\n",
       "    .dataframe tbody tr th {\n",
       "        vertical-align: top;\n",
       "    }\n",
       "\n",
       "    .dataframe thead th {\n",
       "        text-align: right;\n",
       "    }\n",
       "</style>\n",
       "<table border=\"1\" class=\"dataframe\">\n",
       "  <thead>\n",
       "    <tr style=\"text-align: right;\">\n",
       "      <th></th>\n",
       "      <th>ride_id</th>\n",
       "      <th>rideable_type</th>\n",
       "      <th>started_at</th>\n",
       "      <th>ended_at</th>\n",
       "      <th>start_station_name</th>\n",
       "      <th>start_station_id</th>\n",
       "      <th>end_station_name</th>\n",
       "      <th>end_station_id</th>\n",
       "      <th>start_lat</th>\n",
       "      <th>start_lng</th>\n",
       "      <th>end_lat</th>\n",
       "      <th>end_lng</th>\n",
       "      <th>member_casual</th>\n",
       "    </tr>\n",
       "  </thead>\n",
       "  <tbody>\n",
       "    <tr>\n",
       "      <th>0</th>\n",
       "      <td>BD0A6FF6FFF9B921</td>\n",
       "      <td>electric_bike</td>\n",
       "      <td>2020-11-01 13:36:00</td>\n",
       "      <td>2020-11-01 13:45:40</td>\n",
       "      <td>Dearborn St &amp; Erie St</td>\n",
       "      <td>110.0</td>\n",
       "      <td>St. Clair St &amp; Erie St</td>\n",
       "      <td>211.0</td>\n",
       "      <td>41.894177</td>\n",
       "      <td>-87.629127</td>\n",
       "      <td>41.894434</td>\n",
       "      <td>-87.623379</td>\n",
       "      <td>casual</td>\n",
       "    </tr>\n",
       "    <tr>\n",
       "      <th>1</th>\n",
       "      <td>96A7A7A4BDE4F82D</td>\n",
       "      <td>electric_bike</td>\n",
       "      <td>2020-11-01 10:03:26</td>\n",
       "      <td>2020-11-01 10:14:45</td>\n",
       "      <td>Franklin St &amp; Illinois St</td>\n",
       "      <td>672.0</td>\n",
       "      <td>Noble St &amp; Milwaukee Ave</td>\n",
       "      <td>29.0</td>\n",
       "      <td>41.890959</td>\n",
       "      <td>-87.635343</td>\n",
       "      <td>41.900675</td>\n",
       "      <td>-87.662480</td>\n",
       "      <td>casual</td>\n",
       "    </tr>\n",
       "    <tr>\n",
       "      <th>2</th>\n",
       "      <td>C61526D06582BDC5</td>\n",
       "      <td>electric_bike</td>\n",
       "      <td>2020-11-01 00:34:05</td>\n",
       "      <td>2020-11-01 01:03:06</td>\n",
       "      <td>Lake Shore Dr &amp; Monroe St</td>\n",
       "      <td>76.0</td>\n",
       "      <td>Federal St &amp; Polk St</td>\n",
       "      <td>41.0</td>\n",
       "      <td>41.880983</td>\n",
       "      <td>-87.616754</td>\n",
       "      <td>41.872054</td>\n",
       "      <td>-87.629550</td>\n",
       "      <td>casual</td>\n",
       "    </tr>\n",
       "    <tr>\n",
       "      <th>3</th>\n",
       "      <td>E533E89C32080B9E</td>\n",
       "      <td>electric_bike</td>\n",
       "      <td>2020-11-01 00:45:16</td>\n",
       "      <td>2020-11-01 00:54:31</td>\n",
       "      <td>Leavitt St &amp; Chicago Ave</td>\n",
       "      <td>659.0</td>\n",
       "      <td>Stave St &amp; Armitage Ave</td>\n",
       "      <td>185.0</td>\n",
       "      <td>41.895499</td>\n",
       "      <td>-87.682013</td>\n",
       "      <td>41.917744</td>\n",
       "      <td>-87.691392</td>\n",
       "      <td>casual</td>\n",
       "    </tr>\n",
       "    <tr>\n",
       "      <th>4</th>\n",
       "      <td>1C9F4EF18C168C60</td>\n",
       "      <td>electric_bike</td>\n",
       "      <td>2020-11-01 15:43:25</td>\n",
       "      <td>2020-11-01 16:16:52</td>\n",
       "      <td>Buckingham Fountain</td>\n",
       "      <td>2.0</td>\n",
       "      <td>Buckingham Fountain</td>\n",
       "      <td>2.0</td>\n",
       "      <td>41.876497</td>\n",
       "      <td>-87.620358</td>\n",
       "      <td>41.876448</td>\n",
       "      <td>-87.620338</td>\n",
       "      <td>casual</td>\n",
       "    </tr>\n",
       "  </tbody>\n",
       "</table>\n",
       "</div>"
      ],
      "text/plain": [
       "            ride_id  rideable_type           started_at             ended_at  \\\n",
       "0  BD0A6FF6FFF9B921  electric_bike  2020-11-01 13:36:00  2020-11-01 13:45:40   \n",
       "1  96A7A7A4BDE4F82D  electric_bike  2020-11-01 10:03:26  2020-11-01 10:14:45   \n",
       "2  C61526D06582BDC5  electric_bike  2020-11-01 00:34:05  2020-11-01 01:03:06   \n",
       "3  E533E89C32080B9E  electric_bike  2020-11-01 00:45:16  2020-11-01 00:54:31   \n",
       "4  1C9F4EF18C168C60  electric_bike  2020-11-01 15:43:25  2020-11-01 16:16:52   \n",
       "\n",
       "          start_station_name start_station_id          end_station_name  \\\n",
       "0      Dearborn St & Erie St            110.0    St. Clair St & Erie St   \n",
       "1  Franklin St & Illinois St            672.0  Noble St & Milwaukee Ave   \n",
       "2  Lake Shore Dr & Monroe St             76.0      Federal St & Polk St   \n",
       "3   Leavitt St & Chicago Ave            659.0   Stave St & Armitage Ave   \n",
       "4        Buckingham Fountain              2.0       Buckingham Fountain   \n",
       "\n",
       "  end_station_id  start_lat  start_lng    end_lat    end_lng member_casual  \n",
       "0          211.0  41.894177 -87.629127  41.894434 -87.623379        casual  \n",
       "1           29.0  41.890959 -87.635343  41.900675 -87.662480        casual  \n",
       "2           41.0  41.880983 -87.616754  41.872054 -87.629550        casual  \n",
       "3          185.0  41.895499 -87.682013  41.917744 -87.691392        casual  \n",
       "4            2.0  41.876497 -87.620358  41.876448 -87.620338        casual  "
      ]
     },
     "execution_count": 6,
     "metadata": {},
     "output_type": "execute_result"
    }
   ],
   "source": [
    "df.head()"
   ]
  },
  {
   "cell_type": "code",
   "execution_count": 7,
   "metadata": {},
   "outputs": [
    {
     "name": "stdout",
     "output_type": "stream",
     "text": [
      "<class 'pandas.core.frame.DataFrame'>\n",
      "Int64Index: 1154894 entries, 0 to 388652\n",
      "Data columns (total 13 columns):\n",
      " #   Column              Non-Null Count    Dtype  \n",
      "---  ------              --------------    -----  \n",
      " 0   ride_id             1154894 non-null  object \n",
      " 1   rideable_type       1154894 non-null  object \n",
      " 2   started_at          1154894 non-null  object \n",
      " 3   ended_at            1154894 non-null  object \n",
      " 4   start_station_name  1060154 non-null  object \n",
      " 5   start_station_id    1059837 non-null  object \n",
      " 6   end_station_name    1046915 non-null  object \n",
      " 7   end_station_id      1046682 non-null  object \n",
      " 8   start_lat           1154894 non-null  float64\n",
      " 9   start_lng           1154894 non-null  float64\n",
      " 10  end_lat             1153541 non-null  float64\n",
      " 11  end_lng             1153541 non-null  float64\n",
      " 12  member_casual       1154894 non-null  object \n",
      "dtypes: float64(4), object(9)\n",
      "memory usage: 123.4+ MB\n"
     ]
    }
   ],
   "source": [
    "df.info()"
   ]
  },
  {
   "cell_type": "code",
   "execution_count": 8,
   "metadata": {},
   "outputs": [
    {
     "data": {
      "text/html": [
       "<div>\n",
       "<style scoped>\n",
       "    .dataframe tbody tr th:only-of-type {\n",
       "        vertical-align: middle;\n",
       "    }\n",
       "\n",
       "    .dataframe tbody tr th {\n",
       "        vertical-align: top;\n",
       "    }\n",
       "\n",
       "    .dataframe thead th {\n",
       "        text-align: right;\n",
       "    }\n",
       "</style>\n",
       "<table border=\"1\" class=\"dataframe\">\n",
       "  <thead>\n",
       "    <tr style=\"text-align: right;\">\n",
       "      <th></th>\n",
       "      <th>ride_id</th>\n",
       "      <th>rideable_type</th>\n",
       "      <th>started_at</th>\n",
       "      <th>ended_at</th>\n",
       "      <th>start_station_name</th>\n",
       "      <th>start_station_id</th>\n",
       "      <th>end_station_name</th>\n",
       "      <th>end_station_id</th>\n",
       "      <th>member_casual</th>\n",
       "    </tr>\n",
       "  </thead>\n",
       "  <tbody>\n",
       "    <tr>\n",
       "      <th>count</th>\n",
       "      <td>1154894</td>\n",
       "      <td>1154894</td>\n",
       "      <td>1154894</td>\n",
       "      <td>1154894</td>\n",
       "      <td>1060154</td>\n",
       "      <td>1059837.0</td>\n",
       "      <td>1046915</td>\n",
       "      <td>1046682.0</td>\n",
       "      <td>1154894</td>\n",
       "    </tr>\n",
       "    <tr>\n",
       "      <th>unique</th>\n",
       "      <td>1154685</td>\n",
       "      <td>3</td>\n",
       "      <td>1048559</td>\n",
       "      <td>1042538</td>\n",
       "      <td>691</td>\n",
       "      <td>1343.0</td>\n",
       "      <td>690</td>\n",
       "      <td>1344.0</td>\n",
       "      <td>2</td>\n",
       "    </tr>\n",
       "    <tr>\n",
       "      <th>top</th>\n",
       "      <td>B8FD82D36817B095</td>\n",
       "      <td>docked_bike</td>\n",
       "      <td>2020-10-09 17:49:24</td>\n",
       "      <td>2020-10-14 07:23:00</td>\n",
       "      <td>Clark St &amp; Elm St</td>\n",
       "      <td>176.0</td>\n",
       "      <td>Clark St &amp; Elm St</td>\n",
       "      <td>176.0</td>\n",
       "      <td>member</td>\n",
       "    </tr>\n",
       "    <tr>\n",
       "      <th>freq</th>\n",
       "      <td>2</td>\n",
       "      <td>420097</td>\n",
       "      <td>11</td>\n",
       "      <td>13</td>\n",
       "      <td>10724</td>\n",
       "      <td>5980.0</td>\n",
       "      <td>10740</td>\n",
       "      <td>5962.0</td>\n",
       "      <td>779422</td>\n",
       "    </tr>\n",
       "  </tbody>\n",
       "</table>\n",
       "</div>"
      ],
      "text/plain": [
       "                 ride_id rideable_type           started_at  \\\n",
       "count            1154894       1154894              1154894   \n",
       "unique           1154685             3              1048559   \n",
       "top     B8FD82D36817B095   docked_bike  2020-10-09 17:49:24   \n",
       "freq                   2        420097                   11   \n",
       "\n",
       "                   ended_at start_station_name  start_station_id  \\\n",
       "count               1154894            1060154         1059837.0   \n",
       "unique              1042538                691            1343.0   \n",
       "top     2020-10-14 07:23:00  Clark St & Elm St             176.0   \n",
       "freq                     13              10724            5980.0   \n",
       "\n",
       "         end_station_name  end_station_id member_casual  \n",
       "count             1046915       1046682.0       1154894  \n",
       "unique                690          1344.0             2  \n",
       "top     Clark St & Elm St           176.0        member  \n",
       "freq                10740          5962.0        779422  "
      ]
     },
     "execution_count": 8,
     "metadata": {},
     "output_type": "execute_result"
    }
   ],
   "source": [
    "df.describe(include='object')"
   ]
  },
  {
   "cell_type": "code",
   "execution_count": 9,
   "metadata": {},
   "outputs": [
    {
     "data": {
      "text/plain": [
       "ride_id                    0\n",
       "rideable_type              0\n",
       "started_at                 0\n",
       "ended_at                   0\n",
       "start_station_name     94740\n",
       "start_station_id       95057\n",
       "end_station_name      107979\n",
       "end_station_id        108212\n",
       "start_lat                  0\n",
       "start_lng                  0\n",
       "end_lat                 1353\n",
       "end_lng                 1353\n",
       "member_casual              0\n",
       "dtype: int64"
      ]
     },
     "execution_count": 9,
     "metadata": {},
     "output_type": "execute_result"
    }
   ],
   "source": [
    "df.isna().sum()"
   ]
  },
  {
   "cell_type": "code",
   "execution_count": 10,
   "metadata": {},
   "outputs": [
    {
     "data": {
      "text/html": [
       "<div>\n",
       "<style scoped>\n",
       "    .dataframe tbody tr th:only-of-type {\n",
       "        vertical-align: middle;\n",
       "    }\n",
       "\n",
       "    .dataframe tbody tr th {\n",
       "        vertical-align: top;\n",
       "    }\n",
       "\n",
       "    .dataframe thead th {\n",
       "        text-align: right;\n",
       "    }\n",
       "</style>\n",
       "<table border=\"1\" class=\"dataframe\">\n",
       "  <thead>\n",
       "    <tr style=\"text-align: right;\">\n",
       "      <th></th>\n",
       "      <th>ride_id</th>\n",
       "      <th>rideable_type</th>\n",
       "      <th>started_at</th>\n",
       "      <th>ended_at</th>\n",
       "      <th>start_station_name</th>\n",
       "      <th>start_station_id</th>\n",
       "      <th>end_station_name</th>\n",
       "      <th>end_station_id</th>\n",
       "      <th>start_lat</th>\n",
       "      <th>start_lng</th>\n",
       "      <th>end_lat</th>\n",
       "      <th>end_lng</th>\n",
       "      <th>member_casual</th>\n",
       "    </tr>\n",
       "  </thead>\n",
       "  <tbody>\n",
       "    <tr>\n",
       "      <th>196682</th>\n",
       "      <td>CDA12952E2FC2D99</td>\n",
       "      <td>docked_bike</td>\n",
       "      <td>2020-11-25 09:59:11</td>\n",
       "      <td>2020-11-25 10:16:59</td>\n",
       "      <td>Damen Ave &amp; Thomas St (Augusta Blvd)</td>\n",
       "      <td>183.0</td>\n",
       "      <td>Morgan St &amp; Polk St</td>\n",
       "      <td>241.0</td>\n",
       "      <td>41.901315</td>\n",
       "      <td>-87.677409</td>\n",
       "      <td>41.871737</td>\n",
       "      <td>-87.65103</td>\n",
       "      <td>member</td>\n",
       "    </tr>\n",
       "    <tr>\n",
       "      <th>2893</th>\n",
       "      <td>CDA12952E2FC2D99</td>\n",
       "      <td>docked_bike</td>\n",
       "      <td>2020-12-15 11:39:19</td>\n",
       "      <td>2020-11-25 10:16:59</td>\n",
       "      <td>Damen Ave &amp; Thomas St (Augusta Blvd)</td>\n",
       "      <td>TA1307000070</td>\n",
       "      <td>Morgan St &amp; Polk St</td>\n",
       "      <td>TA1307000130</td>\n",
       "      <td>41.901315</td>\n",
       "      <td>-87.677409</td>\n",
       "      <td>41.871737</td>\n",
       "      <td>-87.65103</td>\n",
       "      <td>member</td>\n",
       "    </tr>\n",
       "  </tbody>\n",
       "</table>\n",
       "</div>"
      ],
      "text/plain": [
       "                 ride_id rideable_type           started_at  \\\n",
       "196682  CDA12952E2FC2D99   docked_bike  2020-11-25 09:59:11   \n",
       "2893    CDA12952E2FC2D99   docked_bike  2020-12-15 11:39:19   \n",
       "\n",
       "                   ended_at                    start_station_name  \\\n",
       "196682  2020-11-25 10:16:59  Damen Ave & Thomas St (Augusta Blvd)   \n",
       "2893    2020-11-25 10:16:59  Damen Ave & Thomas St (Augusta Blvd)   \n",
       "\n",
       "       start_station_id     end_station_name end_station_id  start_lat  \\\n",
       "196682            183.0  Morgan St & Polk St          241.0  41.901315   \n",
       "2893       TA1307000070  Morgan St & Polk St   TA1307000130  41.901315   \n",
       "\n",
       "        start_lng    end_lat   end_lng member_casual  \n",
       "196682 -87.677409  41.871737 -87.65103        member  \n",
       "2893   -87.677409  41.871737 -87.65103        member  "
      ]
     },
     "execution_count": 10,
     "metadata": {},
     "output_type": "execute_result"
    }
   ],
   "source": [
    "df[df.duplicated(subset='ride_id')]\n",
    "df[df['ride_id'] == 'CDA12952E2FC2D99']"
   ]
  },
  {
   "cell_type": "code",
   "execution_count": 11,
   "metadata": {},
   "outputs": [],
   "source": [
    "df = df.drop_duplicates(subset='ride_id')"
   ]
  },
  {
   "cell_type": "code",
   "execution_count": 12,
   "metadata": {},
   "outputs": [],
   "source": [
    "df = df.dropna()"
   ]
  },
  {
   "cell_type": "markdown",
   "metadata": {},
   "source": [
    "## Check the members' preferences across the different bike types"
   ]
  },
  {
   "cell_type": "code",
   "execution_count": 13,
   "metadata": {},
   "outputs": [
    {
     "data": {
      "text/plain": [
       "<AxesSubplot:xlabel='member_casual', ylabel='count'>"
      ]
     },
     "execution_count": 13,
     "metadata": {},
     "output_type": "execute_result"
    },
    {
     "data": {
      "image/png": "[encoded data removed]",
      "text/plain": [
       "<Figure size 640x480 with 1 Axes>"
      ]
     },
     "metadata": {},
     "output_type": "display_data"
    }
   ],
   "source": [
    "sns.countplot(x='member_casual', data=df)"
   ]
  },
  {
   "cell_type": "code",
   "execution_count": 14,
   "metadata": {},
   "outputs": [
    {
     "data": {
      "text/plain": [
       "Index(['ride_id', 'rideable_type', 'started_at', 'ended_at',\n",
       "       'start_station_name', 'start_station_id', 'end_station_name',\n",
       "       'end_station_id', 'start_lat', 'start_lng', 'end_lat', 'end_lng',\n",
       "       'member_casual'],\n",
       "      dtype='object')"
      ]
     },
     "execution_count": 14,
     "metadata": {},
     "output_type": "execute_result"
    }
   ],
   "source": [
    "df.columns"
   ]
  },
  {
   "cell_type": "code",
   "execution_count": 61,
   "metadata": {},
   "outputs": [
    {
     "data": {
      "text/plain": [
       "<AxesSubplot:xlabel='member_casual', ylabel='count'>"
      ]
     },
     "execution_count": 61,
     "metadata": {},
     "output_type": "execute_result"
    },
    {
     "data": {
      "image/png": "[encoded data removed]",
      "text/plain": [
       "<Figure size 640x480 with 1 Axes>"
      ]
     },
     "metadata": {},
     "output_type": "display_data"
    }
   ],
   "source": [
    "sns.countplot(x='member_casual', data=df, hue='rideable_type')\n",
    "#sns.countplot(x='rideable_type', data=df, hue='member_casual')"
   ]
  },
  {
   "cell_type": "code",
   "execution_count": 22,
   "metadata": {},
   "outputs": [
    {
     "data": {
      "text/html": [
       "<div>\n",
       "<style scoped>\n",
       "    .dataframe tbody tr th:only-of-type {\n",
       "        vertical-align: middle;\n",
       "    }\n",
       "\n",
       "    .dataframe tbody tr th {\n",
       "        vertical-align: top;\n",
       "    }\n",
       "\n",
       "    .dataframe thead th {\n",
       "        text-align: right;\n",
       "    }\n",
       "</style>\n",
       "<table border=\"1\" class=\"dataframe\">\n",
       "  <thead>\n",
       "    <tr style=\"text-align: right;\">\n",
       "      <th>rideable_type</th>\n",
       "      <th>classic_bike</th>\n",
       "      <th>docked_bike</th>\n",
       "      <th>electric_bike</th>\n",
       "    </tr>\n",
       "    <tr>\n",
       "      <th>member_casual</th>\n",
       "      <th></th>\n",
       "      <th></th>\n",
       "      <th></th>\n",
       "    </tr>\n",
       "  </thead>\n",
       "  <tbody>\n",
       "    <tr>\n",
       "      <th>casual</th>\n",
       "      <td>70433</td>\n",
       "      <td>149595</td>\n",
       "      <td>99287</td>\n",
       "    </tr>\n",
       "    <tr>\n",
       "      <th>member</th>\n",
       "      <td>248181</td>\n",
       "      <td>269503</td>\n",
       "      <td>170992</td>\n",
       "    </tr>\n",
       "  </tbody>\n",
       "</table>\n",
       "</div>"
      ],
      "text/plain": [
       "rideable_type  classic_bike  docked_bike  electric_bike\n",
       "member_casual                                          \n",
       "casual                70433       149595          99287\n",
       "member               248181       269503         170992"
      ]
     },
     "execution_count": 22,
     "metadata": {},
     "output_type": "execute_result"
    }
   ],
   "source": [
    "grouped = df.groupby(['member_casual','rideable_type'])['ride_id'].count()\n",
    "grouped = grouped.reset_index().pivot(index='member_casual', columns='rideable_type', values='ride_id')\n",
    "grouped"
   ]
  },
  {
   "cell_type": "code",
   "execution_count": 23,
   "metadata": {},
   "outputs": [
    {
     "data": {
      "text/plain": [
       "<AxesSubplot:xlabel='member_casual'>"
      ]
     },
     "execution_count": 23,
     "metadata": {},
     "output_type": "execute_result"
    },
    {
     "data": {
      "image/png": "[encoded data removed]",
      "text/plain": [
       "<Figure size 640x480 with 1 Axes>"
      ]
     },
     "metadata": {},
     "output_type": "display_data"
    }
   ],
   "source": [
    "grouped.plot(kind='bar', stacked=True)"
   ]
  },
  {
   "cell_type": "code",
   "execution_count": 24,
   "metadata": {},
   "outputs": [],
   "source": [
    "grouped_percent = grouped.divide(grouped.sum(axis=1), axis=0)"
   ]
  },
  {
   "cell_type": "code",
   "execution_count": 25,
   "metadata": {},
   "outputs": [
    {
     "data": {
      "text/plain": [
       "<AxesSubplot:xlabel='member_casual'>"
      ]
     },
     "execution_count": 25,
     "metadata": {},
     "output_type": "execute_result"
    },
    {
     "data": {
      "image/png": "[encoded data removed]",
      "text/plain": [
       "<Figure size 640x480 with 1 Axes>"
      ]
     },
     "metadata": {},
     "output_type": "display_data"
    }
   ],
   "source": [
    "grouped_percent.plot(kind='bar', stacked=True)\n",
    "#Members like to ride electric bikes more, apparently!"
   ]
  },
  {
   "cell_type": "markdown",
   "metadata": {},
   "source": [
    "## Check how long the rides of members are, and maybe even how fast they go"
   ]
  },
  {
   "cell_type": "code",
   "execution_count": 26,
   "metadata": {},
   "outputs": [
    {
     "data": {
      "text/html": [
       "<div>\n",
       "<style scoped>\n",
       "    .dataframe tbody tr th:only-of-type {\n",
       "        vertical-align: middle;\n",
       "    }\n",
       "\n",
       "    .dataframe tbody tr th {\n",
       "        vertical-align: top;\n",
       "    }\n",
       "\n",
       "    .dataframe thead th {\n",
       "        text-align: right;\n",
       "    }\n",
       "</style>\n",
       "<table border=\"1\" class=\"dataframe\">\n",
       "  <thead>\n",
       "    <tr style=\"text-align: right;\">\n",
       "      <th></th>\n",
       "      <th>ride_id</th>\n",
       "      <th>rideable_type</th>\n",
       "      <th>started_at</th>\n",
       "      <th>ended_at</th>\n",
       "      <th>start_station_name</th>\n",
       "      <th>start_station_id</th>\n",
       "      <th>end_station_name</th>\n",
       "      <th>end_station_id</th>\n",
       "      <th>start_lat</th>\n",
       "      <th>start_lng</th>\n",
       "      <th>end_lat</th>\n",
       "      <th>end_lng</th>\n",
       "      <th>member_casual</th>\n",
       "    </tr>\n",
       "  </thead>\n",
       "  <tbody>\n",
       "    <tr>\n",
       "      <th>0</th>\n",
       "      <td>BD0A6FF6FFF9B921</td>\n",
       "      <td>electric_bike</td>\n",
       "      <td>2020-11-01 13:36:00</td>\n",
       "      <td>2020-11-01 13:45:40</td>\n",
       "      <td>Dearborn St &amp; Erie St</td>\n",
       "      <td>110.0</td>\n",
       "      <td>St. Clair St &amp; Erie St</td>\n",
       "      <td>211.0</td>\n",
       "      <td>41.894177</td>\n",
       "      <td>-87.629127</td>\n",
       "      <td>41.894434</td>\n",
       "      <td>-87.623379</td>\n",
       "      <td>casual</td>\n",
       "    </tr>\n",
       "    <tr>\n",
       "      <th>1</th>\n",
       "      <td>96A7A7A4BDE4F82D</td>\n",
       "      <td>electric_bike</td>\n",
       "      <td>2020-11-01 10:03:26</td>\n",
       "      <td>2020-11-01 10:14:45</td>\n",
       "      <td>Franklin St &amp; Illinois St</td>\n",
       "      <td>672.0</td>\n",
       "      <td>Noble St &amp; Milwaukee Ave</td>\n",
       "      <td>29.0</td>\n",
       "      <td>41.890959</td>\n",
       "      <td>-87.635343</td>\n",
       "      <td>41.900675</td>\n",
       "      <td>-87.662480</td>\n",
       "      <td>casual</td>\n",
       "    </tr>\n",
       "    <tr>\n",
       "      <th>2</th>\n",
       "      <td>C61526D06582BDC5</td>\n",
       "      <td>electric_bike</td>\n",
       "      <td>2020-11-01 00:34:05</td>\n",
       "      <td>2020-11-01 01:03:06</td>\n",
       "      <td>Lake Shore Dr &amp; Monroe St</td>\n",
       "      <td>76.0</td>\n",
       "      <td>Federal St &amp; Polk St</td>\n",
       "      <td>41.0</td>\n",
       "      <td>41.880983</td>\n",
       "      <td>-87.616754</td>\n",
       "      <td>41.872054</td>\n",
       "      <td>-87.629550</td>\n",
       "      <td>casual</td>\n",
       "    </tr>\n",
       "    <tr>\n",
       "      <th>3</th>\n",
       "      <td>E533E89C32080B9E</td>\n",
       "      <td>electric_bike</td>\n",
       "      <td>2020-11-01 00:45:16</td>\n",
       "      <td>2020-11-01 00:54:31</td>\n",
       "      <td>Leavitt St &amp; Chicago Ave</td>\n",
       "      <td>659.0</td>\n",
       "      <td>Stave St &amp; Armitage Ave</td>\n",
       "      <td>185.0</td>\n",
       "      <td>41.895499</td>\n",
       "      <td>-87.682013</td>\n",
       "      <td>41.917744</td>\n",
       "      <td>-87.691392</td>\n",
       "      <td>casual</td>\n",
       "    </tr>\n",
       "    <tr>\n",
       "      <th>4</th>\n",
       "      <td>1C9F4EF18C168C60</td>\n",
       "      <td>electric_bike</td>\n",
       "      <td>2020-11-01 15:43:25</td>\n",
       "      <td>2020-11-01 16:16:52</td>\n",
       "      <td>Buckingham Fountain</td>\n",
       "      <td>2.0</td>\n",
       "      <td>Buckingham Fountain</td>\n",
       "      <td>2.0</td>\n",
       "      <td>41.876497</td>\n",
       "      <td>-87.620358</td>\n",
       "      <td>41.876448</td>\n",
       "      <td>-87.620338</td>\n",
       "      <td>casual</td>\n",
       "    </tr>\n",
       "  </tbody>\n",
       "</table>\n",
       "</div>"
      ],
      "text/plain": [
       "            ride_id  rideable_type           started_at             ended_at  \\\n",
       "0  BD0A6FF6FFF9B921  electric_bike  2020-11-01 13:36:00  2020-11-01 13:45:40   \n",
       "1  96A7A7A4BDE4F82D  electric_bike  2020-11-01 10:03:26  2020-11-01 10:14:45   \n",
       "2  C61526D06582BDC5  electric_bike  2020-11-01 00:34:05  2020-11-01 01:03:06   \n",
       "3  E533E89C32080B9E  electric_bike  2020-11-01 00:45:16  2020-11-01 00:54:31   \n",
       "4  1C9F4EF18C168C60  electric_bike  2020-11-01 15:43:25  2020-11-01 16:16:52   \n",
       "\n",
       "          start_station_name start_station_id          end_station_name  \\\n",
       "0      Dearborn St & Erie St            110.0    St. Clair St & Erie St   \n",
       "1  Franklin St & Illinois St            672.0  Noble St & Milwaukee Ave   \n",
       "2  Lake Shore Dr & Monroe St             76.0      Federal St & Polk St   \n",
       "3   Leavitt St & Chicago Ave            659.0   Stave St & Armitage Ave   \n",
       "4        Buckingham Fountain              2.0       Buckingham Fountain   \n",
       "\n",
       "  end_station_id  start_lat  start_lng    end_lat    end_lng member_casual  \n",
       "0          211.0  41.894177 -87.629127  41.894434 -87.623379        casual  \n",
       "1           29.0  41.890959 -87.635343  41.900675 -87.662480        casual  \n",
       "2           41.0  41.880983 -87.616754  41.872054 -87.629550        casual  \n",
       "3          185.0  41.895499 -87.682013  41.917744 -87.691392        casual  \n",
       "4            2.0  41.876497 -87.620358  41.876448 -87.620338        casual  "
      ]
     },
     "execution_count": 26,
     "metadata": {},
     "output_type": "execute_result"
    }
   ],
   "source": [
    "df.head()"
   ]
  },
  {
   "cell_type": "code",
   "execution_count": 27,
   "metadata": {},
   "outputs": [],
   "source": [
    "# started_at and ended_at are timestamps. Take the difference to get the duration of a ride\n",
    "df = df.reset_index(drop=True)\n",
    "df['started_at'] = pd.to_datetime(df['started_at'])\n",
    "df['ended_at'] = pd.to_datetime(df['ended_at'])"
   ]
  },
  {
   "cell_type": "code",
   "execution_count": 28,
   "metadata": {},
   "outputs": [
    {
     "data": {
      "text/plain": [
       "0         0 days 00:09:40\n",
       "1         0 days 00:11:19\n",
       "2         0 days 00:29:01\n",
       "3         0 days 00:09:15\n",
       "4         0 days 00:33:27\n",
       "                ...      \n",
       "1007986   0 days 00:06:26\n",
       "1007987   0 days 00:08:36\n",
       "1007988   0 days 00:27:34\n",
       "1007989   0 days 00:20:11\n",
       "1007990   0 days 00:11:28\n",
       "Name: duration, Length: 1007991, dtype: timedelta64[ns]"
      ]
     },
     "execution_count": 28,
     "metadata": {},
     "output_type": "execute_result"
    }
   ],
   "source": [
    "df['duration'] = df['ended_at'].subtract(df['started_at'], axis=0)\n",
    "df['duration']"
   ]
  },
  {
   "cell_type": "code",
   "execution_count": 35,
   "metadata": {},
   "outputs": [
    {
     "data": {
      "text/html": [
       "<div>\n",
       "<style scoped>\n",
       "    .dataframe tbody tr th:only-of-type {\n",
       "        vertical-align: middle;\n",
       "    }\n",
       "\n",
       "    .dataframe tbody tr th {\n",
       "        vertical-align: top;\n",
       "    }\n",
       "\n",
       "    .dataframe thead th {\n",
       "        text-align: right;\n",
       "    }\n",
       "</style>\n",
       "<table border=\"1\" class=\"dataframe\">\n",
       "  <thead>\n",
       "    <tr style=\"text-align: right;\">\n",
       "      <th></th>\n",
       "      <th>start_lat</th>\n",
       "      <th>start_lng</th>\n",
       "      <th>end_lat</th>\n",
       "      <th>end_lng</th>\n",
       "      <th>duration</th>\n",
       "      <th>duration_seconds</th>\n",
       "    </tr>\n",
       "  </thead>\n",
       "  <tbody>\n",
       "    <tr>\n",
       "      <th>count</th>\n",
       "      <td>1.004617e+06</td>\n",
       "      <td>1.004617e+06</td>\n",
       "      <td>1.004617e+06</td>\n",
       "      <td>1.004617e+06</td>\n",
       "      <td>1004617</td>\n",
       "      <td>1.004617e+06</td>\n",
       "    </tr>\n",
       "    <tr>\n",
       "      <th>mean</th>\n",
       "      <td>4.190315e+01</td>\n",
       "      <td>-8.764409e+01</td>\n",
       "      <td>4.190340e+01</td>\n",
       "      <td>-8.764434e+01</td>\n",
       "      <td>0 days 00:18:09.830750425</td>\n",
       "      <td>1.089831e+03</td>\n",
       "    </tr>\n",
       "    <tr>\n",
       "      <th>std</th>\n",
       "      <td>4.179246e-02</td>\n",
       "      <td>2.362952e-02</td>\n",
       "      <td>4.182489e-02</td>\n",
       "      <td>2.372806e-02</td>\n",
       "      <td>0 days 00:34:09.797097862</td>\n",
       "      <td>2.049797e+03</td>\n",
       "    </tr>\n",
       "    <tr>\n",
       "      <th>min</th>\n",
       "      <td>4.164850e+01</td>\n",
       "      <td>-8.777470e+01</td>\n",
       "      <td>4.164850e+01</td>\n",
       "      <td>-8.777470e+01</td>\n",
       "      <td>0 days 00:00:01</td>\n",
       "      <td>1.000000e+00</td>\n",
       "    </tr>\n",
       "    <tr>\n",
       "      <th>25%</th>\n",
       "      <td>4.188200e+01</td>\n",
       "      <td>-8.765694e+01</td>\n",
       "      <td>4.188215e+01</td>\n",
       "      <td>-8.765706e+01</td>\n",
       "      <td>0 days 00:06:29</td>\n",
       "      <td>3.890000e+02</td>\n",
       "    </tr>\n",
       "    <tr>\n",
       "      <th>50%</th>\n",
       "      <td>4.189755e+01</td>\n",
       "      <td>-8.764109e+01</td>\n",
       "      <td>4.189766e+01</td>\n",
       "      <td>-8.764154e+01</td>\n",
       "      <td>0 days 00:11:22</td>\n",
       "      <td>6.820000e+02</td>\n",
       "    </tr>\n",
       "    <tr>\n",
       "      <th>75%</th>\n",
       "      <td>4.192878e+01</td>\n",
       "      <td>-8.762872e+01</td>\n",
       "      <td>4.192889e+01</td>\n",
       "      <td>-8.762872e+01</td>\n",
       "      <td>0 days 00:20:42</td>\n",
       "      <td>1.242000e+03</td>\n",
       "    </tr>\n",
       "    <tr>\n",
       "      <th>max</th>\n",
       "      <td>4.206485e+01</td>\n",
       "      <td>-8.752823e+01</td>\n",
       "      <td>4.206494e+01</td>\n",
       "      <td>-8.752823e+01</td>\n",
       "      <td>0 days 23:59:54</td>\n",
       "      <td>8.639400e+04</td>\n",
       "    </tr>\n",
       "  </tbody>\n",
       "</table>\n",
       "</div>"
      ],
      "text/plain": [
       "          start_lat     start_lng       end_lat       end_lng  \\\n",
       "count  1.004617e+06  1.004617e+06  1.004617e+06  1.004617e+06   \n",
       "mean   4.190315e+01 -8.764409e+01  4.190340e+01 -8.764434e+01   \n",
       "std    4.179246e-02  2.362952e-02  4.182489e-02  2.372806e-02   \n",
       "min    4.164850e+01 -8.777470e+01  4.164850e+01 -8.777470e+01   \n",
       "25%    4.188200e+01 -8.765694e+01  4.188215e+01 -8.765706e+01   \n",
       "50%    4.189755e+01 -8.764109e+01  4.189766e+01 -8.764154e+01   \n",
       "75%    4.192878e+01 -8.762872e+01  4.192889e+01 -8.762872e+01   \n",
       "max    4.206485e+01 -8.752823e+01  4.206494e+01 -8.752823e+01   \n",
       "\n",
       "                        duration  duration_seconds  \n",
       "count                    1004617      1.004617e+06  \n",
       "mean   0 days 00:18:09.830750425      1.089831e+03  \n",
       "std    0 days 00:34:09.797097862      2.049797e+03  \n",
       "min              0 days 00:00:01      1.000000e+00  \n",
       "25%              0 days 00:06:29      3.890000e+02  \n",
       "50%              0 days 00:11:22      6.820000e+02  \n",
       "75%              0 days 00:20:42      1.242000e+03  \n",
       "max              0 days 23:59:54      8.639400e+04  "
      ]
     },
     "execution_count": 35,
     "metadata": {},
     "output_type": "execute_result"
    }
   ],
   "source": [
    "df.describe()"
   ]
  },
  {
   "cell_type": "code",
   "execution_count": 30,
   "metadata": {},
   "outputs": [],
   "source": [
    "df['duration_seconds'] = df['duration'].dt.total_seconds().astype(int)"
   ]
  },
  {
   "cell_type": "code",
   "execution_count": 33,
   "metadata": {},
   "outputs": [
    {
     "data": {
      "text/plain": [
       "86400"
      ]
     },
     "execution_count": 33,
     "metadata": {},
     "output_type": "execute_result"
    }
   ],
   "source": [
    "60*60*24"
   ]
  },
  {
   "cell_type": "code",
   "execution_count": 34,
   "metadata": {},
   "outputs": [],
   "source": [
    "df = df[df['duration_seconds'] > 0]\n",
    "df = df[df['duration_seconds'] < 86400]"
   ]
  },
  {
   "cell_type": "code",
   "execution_count": 54,
   "metadata": {},
   "outputs": [
    {
     "data": {
      "text/plain": [
       "<AxesSubplot:xlabel='duration_seconds', ylabel='Count'>"
      ]
     },
     "execution_count": 54,
     "metadata": {},
     "output_type": "execute_result"
    },
    {
     "data": {
      "image/png": "[encoded data removed]",
      "text/plain": [
       "<Figure size 1200x600 with 1 Axes>"
      ]
     },
     "metadata": {},
     "output_type": "display_data"
    }
   ],
   "source": [
    "plt.figure(figsize=(12,6))\n",
    "sns.histplot(df['duration_seconds'], bins=100, kde=True)"
   ]
  },
  {
   "cell_type": "code",
   "execution_count": 75,
   "metadata": {},
   "outputs": [
    {
     "data": {
      "text/plain": [
       "<AxesSubplot:xlabel='member_casual'>"
      ]
     },
     "execution_count": 75,
     "metadata": {},
     "output_type": "execute_result"
    },
    {
     "data": {
      "image/png": "[encoded data removed]",
      "text/plain": [
       "<Figure size 640x480 with 1 Axes>"
      ]
     },
     "metadata": {},
     "output_type": "display_data"
    }
   ],
   "source": [
    "grouped = df.groupby(['member_casual','rideable_type']).mean()['duration_seconds']\n",
    "grouped = grouped.reset_index().pivot(index='member_casual', columns='rideable_type', values='duration_seconds')\n",
    "grouped.plot(kind='bar')"
   ]
  },
  {
   "cell_type": "markdown",
   "metadata": {},
   "source": [
    "## Explore how the behavior varies across weekday/weekends"
   ]
  },
  {
   "cell_type": "code",
   "execution_count": 87,
   "metadata": {},
   "outputs": [
    {
     "data": {
      "text/html": [
       "<div>\n",
       "<style scoped>\n",
       "    .dataframe tbody tr th:only-of-type {\n",
       "        vertical-align: middle;\n",
       "    }\n",
       "\n",
       "    .dataframe tbody tr th {\n",
       "        vertical-align: top;\n",
       "    }\n",
       "\n",
       "    .dataframe thead th {\n",
       "        text-align: right;\n",
       "    }\n",
       "</style>\n",
       "<table border=\"1\" class=\"dataframe\">\n",
       "  <thead>\n",
       "    <tr style=\"text-align: right;\">\n",
       "      <th></th>\n",
       "      <th>ride_id</th>\n",
       "      <th>rideable_type</th>\n",
       "      <th>started_at</th>\n",
       "      <th>ended_at</th>\n",
       "      <th>start_station_name</th>\n",
       "      <th>start_station_id</th>\n",
       "      <th>end_station_name</th>\n",
       "      <th>end_station_id</th>\n",
       "      <th>start_lat</th>\n",
       "      <th>start_lng</th>\n",
       "      <th>end_lat</th>\n",
       "      <th>end_lng</th>\n",
       "      <th>member_casual</th>\n",
       "      <th>duration</th>\n",
       "      <th>duration_seconds</th>\n",
       "      <th>Weekday</th>\n",
       "    </tr>\n",
       "  </thead>\n",
       "  <tbody>\n",
       "    <tr>\n",
       "      <th>0</th>\n",
       "      <td>BD0A6FF6FFF9B921</td>\n",
       "      <td>electric_bike</td>\n",
       "      <td>2020-11-01 13:36:00</td>\n",
       "      <td>2020-11-01 13:45:40</td>\n",
       "      <td>Dearborn St &amp; Erie St</td>\n",
       "      <td>110.0</td>\n",
       "      <td>St. Clair St &amp; Erie St</td>\n",
       "      <td>211.0</td>\n",
       "      <td>41.894177</td>\n",
       "      <td>-87.629127</td>\n",
       "      <td>41.894434</td>\n",
       "      <td>-87.623379</td>\n",
       "      <td>casual</td>\n",
       "      <td>0 days 00:09:40</td>\n",
       "      <td>580</td>\n",
       "      <td>6</td>\n",
       "    </tr>\n",
       "    <tr>\n",
       "      <th>1</th>\n",
       "      <td>96A7A7A4BDE4F82D</td>\n",
       "      <td>electric_bike</td>\n",
       "      <td>2020-11-01 10:03:26</td>\n",
       "      <td>2020-11-01 10:14:45</td>\n",
       "      <td>Franklin St &amp; Illinois St</td>\n",
       "      <td>672.0</td>\n",
       "      <td>Noble St &amp; Milwaukee Ave</td>\n",
       "      <td>29.0</td>\n",
       "      <td>41.890959</td>\n",
       "      <td>-87.635343</td>\n",
       "      <td>41.900675</td>\n",
       "      <td>-87.662480</td>\n",
       "      <td>casual</td>\n",
       "      <td>0 days 00:11:19</td>\n",
       "      <td>679</td>\n",
       "      <td>6</td>\n",
       "    </tr>\n",
       "    <tr>\n",
       "      <th>2</th>\n",
       "      <td>C61526D06582BDC5</td>\n",
       "      <td>electric_bike</td>\n",
       "      <td>2020-11-01 00:34:05</td>\n",
       "      <td>2020-11-01 01:03:06</td>\n",
       "      <td>Lake Shore Dr &amp; Monroe St</td>\n",
       "      <td>76.0</td>\n",
       "      <td>Federal St &amp; Polk St</td>\n",
       "      <td>41.0</td>\n",
       "      <td>41.880983</td>\n",
       "      <td>-87.616754</td>\n",
       "      <td>41.872054</td>\n",
       "      <td>-87.629550</td>\n",
       "      <td>casual</td>\n",
       "      <td>0 days 00:29:01</td>\n",
       "      <td>1741</td>\n",
       "      <td>6</td>\n",
       "    </tr>\n",
       "    <tr>\n",
       "      <th>3</th>\n",
       "      <td>E533E89C32080B9E</td>\n",
       "      <td>electric_bike</td>\n",
       "      <td>2020-11-01 00:45:16</td>\n",
       "      <td>2020-11-01 00:54:31</td>\n",
       "      <td>Leavitt St &amp; Chicago Ave</td>\n",
       "      <td>659.0</td>\n",
       "      <td>Stave St &amp; Armitage Ave</td>\n",
       "      <td>185.0</td>\n",
       "      <td>41.895499</td>\n",
       "      <td>-87.682013</td>\n",
       "      <td>41.917744</td>\n",
       "      <td>-87.691392</td>\n",
       "      <td>casual</td>\n",
       "      <td>0 days 00:09:15</td>\n",
       "      <td>555</td>\n",
       "      <td>6</td>\n",
       "    </tr>\n",
       "    <tr>\n",
       "      <th>4</th>\n",
       "      <td>1C9F4EF18C168C60</td>\n",
       "      <td>electric_bike</td>\n",
       "      <td>2020-11-01 15:43:25</td>\n",
       "      <td>2020-11-01 16:16:52</td>\n",
       "      <td>Buckingham Fountain</td>\n",
       "      <td>2.0</td>\n",
       "      <td>Buckingham Fountain</td>\n",
       "      <td>2.0</td>\n",
       "      <td>41.876497</td>\n",
       "      <td>-87.620358</td>\n",
       "      <td>41.876448</td>\n",
       "      <td>-87.620338</td>\n",
       "      <td>casual</td>\n",
       "      <td>0 days 00:33:27</td>\n",
       "      <td>2007</td>\n",
       "      <td>6</td>\n",
       "    </tr>\n",
       "  </tbody>\n",
       "</table>\n",
       "</div>"
      ],
      "text/plain": [
       "            ride_id  rideable_type          started_at            ended_at  \\\n",
       "0  BD0A6FF6FFF9B921  electric_bike 2020-11-01 13:36:00 2020-11-01 13:45:40   \n",
       "1  96A7A7A4BDE4F82D  electric_bike 2020-11-01 10:03:26 2020-11-01 10:14:45   \n",
       "2  C61526D06582BDC5  electric_bike 2020-11-01 00:34:05 2020-11-01 01:03:06   \n",
       "3  E533E89C32080B9E  electric_bike 2020-11-01 00:45:16 2020-11-01 00:54:31   \n",
       "4  1C9F4EF18C168C60  electric_bike 2020-11-01 15:43:25 2020-11-01 16:16:52   \n",
       "\n",
       "          start_station_name start_station_id          end_station_name  \\\n",
       "0      Dearborn St & Erie St            110.0    St. Clair St & Erie St   \n",
       "1  Franklin St & Illinois St            672.0  Noble St & Milwaukee Ave   \n",
       "2  Lake Shore Dr & Monroe St             76.0      Federal St & Polk St   \n",
       "3   Leavitt St & Chicago Ave            659.0   Stave St & Armitage Ave   \n",
       "4        Buckingham Fountain              2.0       Buckingham Fountain   \n",
       "\n",
       "  end_station_id  start_lat  start_lng    end_lat    end_lng member_casual  \\\n",
       "0          211.0  41.894177 -87.629127  41.894434 -87.623379        casual   \n",
       "1           29.0  41.890959 -87.635343  41.900675 -87.662480        casual   \n",
       "2           41.0  41.880983 -87.616754  41.872054 -87.629550        casual   \n",
       "3          185.0  41.895499 -87.682013  41.917744 -87.691392        casual   \n",
       "4            2.0  41.876497 -87.620358  41.876448 -87.620338        casual   \n",
       "\n",
       "         duration  duration_seconds  Weekday  \n",
       "0 0 days 00:09:40               580        6  \n",
       "1 0 days 00:11:19               679        6  \n",
       "2 0 days 00:29:01              1741        6  \n",
       "3 0 days 00:09:15               555        6  \n",
       "4 0 days 00:33:27              2007        6  "
      ]
     },
     "execution_count": 87,
     "metadata": {},
     "output_type": "execute_result"
    }
   ],
   "source": [
    "df.head()"
   ]
  },
  {
   "cell_type": "code",
   "execution_count": 86,
   "metadata": {},
   "outputs": [],
   "source": [
    "df['Weekday'] = df['started_at'].dt.dayofweek"
   ]
  },
  {
   "cell_type": "code",
   "execution_count": 97,
   "metadata": {},
   "outputs": [
    {
     "data": {
      "text/plain": [
       "<AxesSubplot:xlabel='Weekday', ylabel='count'>"
      ]
     },
     "execution_count": 97,
     "metadata": {},
     "output_type": "execute_result"
    },
    {
     "data": {
      "image/png": "[encoded data removed]",
      "text/plain": [
       "<Figure size 1600x600 with 2 Axes>"
      ]
     },
     "metadata": {},
     "output_type": "display_data"
    }
   ],
   "source": [
    "plt.figure(figsize=(16,6))\n",
    "plt.subplot(2,1,1)\n",
    "sns.countplot(x='Weekday', data=df[df['member_casual'] == 'casual'], hue='rideable_type')\n",
    "plt.subplot(2,1,2)\n",
    "sns.countplot(x='Weekday', data=df[df['member_casual'] == 'member'], hue='rideable_type')\n",
    "#Clearly observable that casual members like to ride more on weekends, while members ride every day"
   ]
  },
  {
   "cell_type": "markdown",
   "metadata": {},
   "source": [
    "## Explore how the behavior changes across daytimes"
   ]
  },
  {
   "cell_type": "code",
   "execution_count": 98,
   "metadata": {},
   "outputs": [],
   "source": [
    "df['daytime'] = 'morning'\n",
    "df.loc[(df['started_at'].dt.hour >= 6) & (df['started_at'].dt.hour < 11), 'daytime'] = 'morning'\n",
    "df.loc[(df['started_at'].dt.hour >= 11) & (df['started_at'].dt.hour < 17), 'daytime'] = 'day'\n",
    "df.loc[(df['started_at'].dt.hour >= 17) & (df['started_at'].dt.hour < 6), 'daytime'] = 'night'"
   ]
  },
  {
   "cell_type": "code",
   "execution_count": 100,
   "metadata": {},
   "outputs": [
    {
     "data": {
      "text/plain": [
       "<AxesSubplot:xlabel='daytime', ylabel='count'>"
      ]
     },
     "execution_count": 100,
     "metadata": {},
     "output_type": "execute_result"
    },
    {
     "data": {
      "image/png": "[encoded data removed]",
      "text/plain": [
       "<Figure size 1600x600 with 2 Axes>"
      ]
     },
     "metadata": {},
     "output_type": "display_data"
    }
   ],
   "source": [
    "plt.figure(figsize=(16,6))\n",
    "plt.subplot(2,1,1)\n",
    "sns.countplot(x='daytime', data=df[df['member_casual'] == 'casual'], hue='rideable_type')\n",
    "plt.subplot(2,1,2)\n",
    "sns.countplot(x='daytime', data=df[df['member_casual'] == 'member'], hue='rideable_type')"
   ]
  },
  {
   "cell_type": "markdown",
   "metadata": {},
   "source": [
    "## Explore distance of every ride (very hard since only long and lat are given...)"
   ]
  },
  {
   "cell_type": "code",
   "execution_count": 103,
   "metadata": {},
   "outputs": [
    {
     "data": {
      "text/html": [
       "<div>\n",
       "<style scoped>\n",
       "    .dataframe tbody tr th:only-of-type {\n",
       "        vertical-align: middle;\n",
       "    }\n",
       "\n",
       "    .dataframe tbody tr th {\n",
       "        vertical-align: top;\n",
       "    }\n",
       "\n",
       "    .dataframe thead th {\n",
       "        text-align: right;\n",
       "    }\n",
       "</style>\n",
       "<table border=\"1\" class=\"dataframe\">\n",
       "  <thead>\n",
       "    <tr style=\"text-align: right;\">\n",
       "      <th></th>\n",
       "      <th>ride_id</th>\n",
       "      <th>rideable_type</th>\n",
       "      <th>started_at</th>\n",
       "      <th>ended_at</th>\n",
       "      <th>start_station_name</th>\n",
       "      <th>start_station_id</th>\n",
       "      <th>end_station_name</th>\n",
       "      <th>end_station_id</th>\n",
       "      <th>start_lat</th>\n",
       "      <th>start_lng</th>\n",
       "      <th>end_lat</th>\n",
       "      <th>end_lng</th>\n",
       "      <th>member_casual</th>\n",
       "      <th>duration</th>\n",
       "      <th>duration_seconds</th>\n",
       "      <th>Weekday</th>\n",
       "      <th>daytime</th>\n",
       "    </tr>\n",
       "  </thead>\n",
       "  <tbody>\n",
       "    <tr>\n",
       "      <th>0</th>\n",
       "      <td>BD0A6FF6FFF9B921</td>\n",
       "      <td>electric_bike</td>\n",
       "      <td>2020-11-01 13:36:00</td>\n",
       "      <td>2020-11-01 13:45:40</td>\n",
       "      <td>Dearborn St &amp; Erie St</td>\n",
       "      <td>110.0</td>\n",
       "      <td>St. Clair St &amp; Erie St</td>\n",
       "      <td>211.0</td>\n",
       "      <td>41.894177</td>\n",
       "      <td>-87.629127</td>\n",
       "      <td>41.894434</td>\n",
       "      <td>-87.623379</td>\n",
       "      <td>casual</td>\n",
       "      <td>0 days 00:09:40</td>\n",
       "      <td>580</td>\n",
       "      <td>6</td>\n",
       "      <td>day</td>\n",
       "    </tr>\n",
       "    <tr>\n",
       "      <th>1</th>\n",
       "      <td>96A7A7A4BDE4F82D</td>\n",
       "      <td>electric_bike</td>\n",
       "      <td>2020-11-01 10:03:26</td>\n",
       "      <td>2020-11-01 10:14:45</td>\n",
       "      <td>Franklin St &amp; Illinois St</td>\n",
       "      <td>672.0</td>\n",
       "      <td>Noble St &amp; Milwaukee Ave</td>\n",
       "      <td>29.0</td>\n",
       "      <td>41.890959</td>\n",
       "      <td>-87.635343</td>\n",
       "      <td>41.900675</td>\n",
       "      <td>-87.662480</td>\n",
       "      <td>casual</td>\n",
       "      <td>0 days 00:11:19</td>\n",
       "      <td>679</td>\n",
       "      <td>6</td>\n",
       "      <td>morning</td>\n",
       "    </tr>\n",
       "    <tr>\n",
       "      <th>2</th>\n",
       "      <td>C61526D06582BDC5</td>\n",
       "      <td>electric_bike</td>\n",
       "      <td>2020-11-01 00:34:05</td>\n",
       "      <td>2020-11-01 01:03:06</td>\n",
       "      <td>Lake Shore Dr &amp; Monroe St</td>\n",
       "      <td>76.0</td>\n",
       "      <td>Federal St &amp; Polk St</td>\n",
       "      <td>41.0</td>\n",
       "      <td>41.880983</td>\n",
       "      <td>-87.616754</td>\n",
       "      <td>41.872054</td>\n",
       "      <td>-87.629550</td>\n",
       "      <td>casual</td>\n",
       "      <td>0 days 00:29:01</td>\n",
       "      <td>1741</td>\n",
       "      <td>6</td>\n",
       "      <td>morning</td>\n",
       "    </tr>\n",
       "    <tr>\n",
       "      <th>3</th>\n",
       "      <td>E533E89C32080B9E</td>\n",
       "      <td>electric_bike</td>\n",
       "      <td>2020-11-01 00:45:16</td>\n",
       "      <td>2020-11-01 00:54:31</td>\n",
       "      <td>Leavitt St &amp; Chicago Ave</td>\n",
       "      <td>659.0</td>\n",
       "      <td>Stave St &amp; Armitage Ave</td>\n",
       "      <td>185.0</td>\n",
       "      <td>41.895499</td>\n",
       "      <td>-87.682013</td>\n",
       "      <td>41.917744</td>\n",
       "      <td>-87.691392</td>\n",
       "      <td>casual</td>\n",
       "      <td>0 days 00:09:15</td>\n",
       "      <td>555</td>\n",
       "      <td>6</td>\n",
       "      <td>morning</td>\n",
       "    </tr>\n",
       "    <tr>\n",
       "      <th>4</th>\n",
       "      <td>1C9F4EF18C168C60</td>\n",
       "      <td>electric_bike</td>\n",
       "      <td>2020-11-01 15:43:25</td>\n",
       "      <td>2020-11-01 16:16:52</td>\n",
       "      <td>Buckingham Fountain</td>\n",
       "      <td>2.0</td>\n",
       "      <td>Buckingham Fountain</td>\n",
       "      <td>2.0</td>\n",
       "      <td>41.876497</td>\n",
       "      <td>-87.620358</td>\n",
       "      <td>41.876448</td>\n",
       "      <td>-87.620338</td>\n",
       "      <td>casual</td>\n",
       "      <td>0 days 00:33:27</td>\n",
       "      <td>2007</td>\n",
       "      <td>6</td>\n",
       "      <td>day</td>\n",
       "    </tr>\n",
       "  </tbody>\n",
       "</table>\n",
       "</div>"
      ],
      "text/plain": [
       "            ride_id  rideable_type          started_at            ended_at  \\\n",
       "0  BD0A6FF6FFF9B921  electric_bike 2020-11-01 13:36:00 2020-11-01 13:45:40   \n",
       "1  96A7A7A4BDE4F82D  electric_bike 2020-11-01 10:03:26 2020-11-01 10:14:45   \n",
       "2  C61526D06582BDC5  electric_bike 2020-11-01 00:34:05 2020-11-01 01:03:06   \n",
       "3  E533E89C32080B9E  electric_bike 2020-11-01 00:45:16 2020-11-01 00:54:31   \n",
       "4  1C9F4EF18C168C60  electric_bike 2020-11-01 15:43:25 2020-11-01 16:16:52   \n",
       "\n",
       "          start_station_name start_station_id          end_station_name  \\\n",
       "0      Dearborn St & Erie St            110.0    St. Clair St & Erie St   \n",
       "1  Franklin St & Illinois St            672.0  Noble St & Milwaukee Ave   \n",
       "2  Lake Shore Dr & Monroe St             76.0      Federal St & Polk St   \n",
       "3   Leavitt St & Chicago Ave            659.0   Stave St & Armitage Ave   \n",
       "4        Buckingham Fountain              2.0       Buckingham Fountain   \n",
       "\n",
       "  end_station_id  start_lat  start_lng    end_lat    end_lng member_casual  \\\n",
       "0          211.0  41.894177 -87.629127  41.894434 -87.623379        casual   \n",
       "1           29.0  41.890959 -87.635343  41.900675 -87.662480        casual   \n",
       "2           41.0  41.880983 -87.616754  41.872054 -87.629550        casual   \n",
       "3          185.0  41.895499 -87.682013  41.917744 -87.691392        casual   \n",
       "4            2.0  41.876497 -87.620358  41.876448 -87.620338        casual   \n",
       "\n",
       "         duration  duration_seconds  Weekday  daytime  \n",
       "0 0 days 00:09:40               580        6      day  \n",
       "1 0 days 00:11:19               679        6  morning  \n",
       "2 0 days 00:29:01              1741        6  morning  \n",
       "3 0 days 00:09:15               555        6  morning  \n",
       "4 0 days 00:33:27              2007        6      day  "
      ]
     },
     "execution_count": 103,
     "metadata": {},
     "output_type": "execute_result"
    }
   ],
   "source": [
    "df.head()"
   ]
  },
  {
   "cell_type": "code",
   "execution_count": null,
   "metadata": {},
   "outputs": [],
   "source": []
  }
 ],
 "metadata": {
  "kernelspec": {
   "display_name": "Python 3",
   "language": "python",
   "name": "python3"
  },
  "language_info": {
   "codemirror_mode": {
    "name": "ipython",
    "version": 3
   },
   "file_extension": ".py",
   "mimetype": "text/x-python",
   "name": "python",
   "nbconvert_exporter": "python",
   "pygments_lexer": "ipython3",
   "version": "3.9.13"
  }
 },
 "nbformat": 4,
 "nbformat_minor": 2
}
