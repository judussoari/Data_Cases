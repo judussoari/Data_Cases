{
 "cells": [
  {
   "cell_type": "markdown",
   "metadata": {},
   "source": [
    "## Gesture Classification \n",
    "### Using Time Series describing the 3D acceleration history of a gesture "
   ]
  },
  {
   "cell_type": "markdown",
   "metadata": {},
   "source": [
    "### Data Import"
   ]
  },
  {
   "cell_type": "code",
   "execution_count": 1,
   "metadata": {},
   "outputs": [],
   "source": [
    "import pandas as pd\n",
    "import numpy as np\n",
    "import seaborn as sns \n",
    "import matplotlib.pyplot as plt\n",
    "import os"
   ]
  },
  {
   "cell_type": "code",
   "execution_count": 2,
   "metadata": {},
   "outputs": [
    {
     "name": "stdout",
     "output_type": "stream",
     "text": [
      "U1 (4) means User 1, 4th day\n"
     ]
    },
    {
     "data": {
      "text/plain": [
       "['U1 (2)',\n",
       " 'U2 (1)',\n",
       " 'U3 (1)',\n",
       " 'U2 (2)',\n",
       " 'U1 (1)',\n",
       " 'U3 (2)',\n",
       " 'U7 (2)',\n",
       " '.DS_Store',\n",
       " 'U4 (1)',\n",
       " 'U5 (1)',\n",
       " 'U6 (2)',\n",
       " 'U4 (2)',\n",
       " 'U8 (3)',\n",
       " 'U7 (1)',\n",
       " 'U6 (1)',\n",
       " 'U5 (2)',\n",
       " 'U7 (5)',\n",
       " 'U4 (6)',\n",
       " 'U8 (7)',\n",
       " 'U5 (6)',\n",
       " 'U6 (5)',\n",
       " 'U4 (5)',\n",
       " 'U8 (4)',\n",
       " 'U7 (6)',\n",
       " 'U6 (6)',\n",
       " 'U5 (5)',\n",
       " 'U1 (5)',\n",
       " 'U2 (6)',\n",
       " 'U3 (6)',\n",
       " 'U2 (5)',\n",
       " 'U1 (6)',\n",
       " 'U3 (5)',\n",
       " 'U2 (4)',\n",
       " 'U1 (7)',\n",
       " 'U3 (4)',\n",
       " 'U1 (4)',\n",
       " 'U2 (7)',\n",
       " 'U3 (7)',\n",
       " 'U8 (5)',\n",
       " 'U4 (4)',\n",
       " 'U7 (7)',\n",
       " 'U6 (7)',\n",
       " 'U5 (4)',\n",
       " 'U7 (4)',\n",
       " 'U8 (6)',\n",
       " 'U4 (7)',\n",
       " 'U5 (7)',\n",
       " 'U6 (4)',\n",
       " 'Readme.txt',\n",
       " 'U8 (2)',\n",
       " 'U4 (3)',\n",
       " 'U5 (3)',\n",
       " 'U7 (3)',\n",
       " 'U8 (1)',\n",
       " 'U6 (3)',\n",
       " 'U2 (3)',\n",
       " 'U3 (3)',\n",
       " 'U1 (3)']"
      ]
     },
     "execution_count": 2,
     "metadata": {},
     "output_type": "execute_result"
    }
   ],
   "source": [
    "print('U1 (4) means User 1, 4th day')\n",
    "os.listdir('data/')"
   ]
  },
  {
   "cell_type": "code",
   "execution_count": 3,
   "metadata": {},
   "outputs": [
    {
     "name": "stdout",
     "output_type": "stream",
     "text": [
      "Name convention: $some prefix$1-9 means Gesture 1, Repitition no. 9\n"
     ]
    },
    {
     "data": {
      "text/plain": [
       "['A_Template_Acceleration1-9.txt',\n",
       " 'A_Template_Acceleration2-10.txt',\n",
       " 'A_Template_Acceleration1-8.txt',\n",
       " 'A_Template_Acceleration3-8.txt',\n",
       " 'A_Template_Acceleration3-9.txt',\n",
       " 'A_Template_Acceleration7-9.txt',\n",
       " 'A_Template_Acceleration7-8.txt',\n",
       " 'A_Template_Acceleration5-8.txt',\n",
       " 'A_Template_Acceleration5-9.txt',\n",
       " 'A_Template_Acceleration8-3.txt',\n",
       " 'A_Template_Acceleration2-8.txt',\n",
       " 'A_Template_Acceleration2-9.txt',\n",
       " 'A_Template_Acceleration8-2.txt',\n",
       " 'A_Template_Acceleration8-10.txt',\n",
       " 'A_Template_Acceleration4-10.txt',\n",
       " 'A_Template_Acceleration8-1.txt',\n",
       " 'A_Template_Acceleration6-10.txt',\n",
       " 'A_Template_Acceleration8-5.txt',\n",
       " 'A_Template_Acceleration4-8.txt',\n",
       " 'A_Template_Acceleration4-9.txt',\n",
       " 'A_Template_Acceleration8-4.txt',\n",
       " 'A_Template_Acceleration8-6.txt',\n",
       " 'A_Template_Acceleration6-9.txt',\n",
       " 'A_Template_Acceleration6-8.txt',\n",
       " 'A_Template_Acceleration8-7.txt',\n",
       " 'A_Template_Acceleration6-5.txt',\n",
       " 'A_Template_Acceleration4-7.txt',\n",
       " 'A_Template_Acceleration2-1.txt',\n",
       " 'A_Template_Acceleration4-6.txt',\n",
       " 'A_Template_Acceleration6-4.txt',\n",
       " 'A_Template_Acceleration8-9.txt',\n",
       " 'A_Template_Acceleration6-6.txt',\n",
       " 'A_Template_Acceleration4-4.txt',\n",
       " 'A_Template_Acceleration2-2.txt',\n",
       " 'A_Template_Acceleration3-10.txt',\n",
       " 'A_Template_Acceleration2-3.txt',\n",
       " 'A_Template_Acceleration4-5.txt',\n",
       " 'A_Template_Acceleration6-7.txt',\n",
       " 'A_Template_Acceleration8-8.txt',\n",
       " 'A_Template_Acceleration1-10.txt',\n",
       " 'A_Template_Acceleration6-3.txt',\n",
       " 'A_Template_Acceleration4-1.txt',\n",
       " 'A_Template_Acceleration2-7.txt',\n",
       " 'A_Template_Acceleration2-6.txt',\n",
       " 'A_Template_Acceleration6-2.txt',\n",
       " 'A_Template_Acceleration4-2.txt',\n",
       " 'A_Template_Acceleration2-4.txt',\n",
       " 'A_Template_Acceleration2-5.txt',\n",
       " 'A_Template_Acceleration4-3.txt',\n",
       " 'A_Template_Acceleration6-1.txt',\n",
       " 'A_Template_Acceleration3-2.txt',\n",
       " 'A_Template_Acceleration5-4.txt',\n",
       " 'A_Template_Acceleration7-6.txt',\n",
       " 'A_Template_Acceleration7-7.txt',\n",
       " 'A_Template_Acceleration5-5.txt',\n",
       " 'A_Template_Acceleration3-3.txt',\n",
       " 'A_Template_Acceleration5-10.txt',\n",
       " 'A_Template_Acceleration1-1.txt',\n",
       " 'A_Template_Acceleration1-3.txt',\n",
       " 'A_Template_Acceleration3-1.txt',\n",
       " 'A_Template_Acceleration5-7.txt',\n",
       " 'A_Template_Acceleration7-5.txt',\n",
       " 'A_Template_Acceleration7-4.txt',\n",
       " 'A_Template_Acceleration5-6.txt',\n",
       " 'A_Template_Acceleration1-2.txt',\n",
       " 'A_Template_Acceleration1-6.txt',\n",
       " 'A_Template_Acceleration3-4.txt',\n",
       " 'A_Template_Acceleration5-2.txt',\n",
       " 'A_Template_Acceleration7-1.txt',\n",
       " 'A_Template_Acceleration5-3.txt',\n",
       " 'A_Template_Acceleration3-5.txt',\n",
       " 'A_Template_Acceleration1-7.txt',\n",
       " 'A_Template_Acceleration1-5.txt',\n",
       " 'A_Template_Acceleration3-7.txt',\n",
       " 'A_Template_Acceleration5-1.txt',\n",
       " 'A_Template_Acceleration7-3.txt',\n",
       " 'A_Template_Acceleration7-2.txt',\n",
       " 'A_Template_Acceleration7-10.txt',\n",
       " 'A_Template_Acceleration3-6.txt',\n",
       " 'A_Template_Acceleration1-4.txt']"
      ]
     },
     "execution_count": 3,
     "metadata": {},
     "output_type": "execute_result"
    }
   ],
   "source": [
    "print(\"Name convention: $some prefix$1-9 means Gesture 1, Repitition no. 9\")\n",
    "os.listdir('data/U1 (1)/')"
   ]
  },
  {
   "cell_type": "code",
   "execution_count": 4,
   "metadata": {},
   "outputs": [],
   "source": [
    "#Loading multiple files into a single DataFrame using pd.concat() in a loop can be very inefficient, especially when dealing with a large number of files. Better use data list\n",
    "\n",
    "df = pd.DataFrame(columns=['X','Y','Z','Gesture','Repetition','User','Day'])\n",
    "data_list = []\n",
    "\n",
    "for user_day in os.listdir('data/'):\n",
    "    if 'U' not in user_day:\n",
    "        continue\n",
    "    user = user_day.split(' ')[0][1]\n",
    "    day = user_day.split(' ')[1][1]\n",
    "    for filename in os.listdir(f'data/{user_day}/'):\n",
    "        if '-' not in filename:\n",
    "            continue\n",
    "        df_temp = pd.read_csv(f'data/{user_day}/{filename}', header=None, delimiter=' ', names=['X','Y','Z'])\n",
    "        df_temp['Gesture'] = filename.split('-')[0][-1]\n",
    "        df_temp['Repetition'] = filename.split('-')[1].split('.')[0]\n",
    "        df_temp['User'] = user\n",
    "        df_temp['Day'] = day\n",
    "        data_list.append(df_temp)\n",
    "\n",
    "df = pd.concat(data_list, axis=0).reset_index(drop=True)"
   ]
  },
  {
   "cell_type": "code",
   "execution_count": 5,
   "metadata": {},
   "outputs": [
    {
     "data": {
      "text/html": [
       "<div>\n",
       "<style scoped>\n",
       "    .dataframe tbody tr th:only-of-type {\n",
       "        vertical-align: middle;\n",
       "    }\n",
       "\n",
       "    .dataframe tbody tr th {\n",
       "        vertical-align: top;\n",
       "    }\n",
       "\n",
       "    .dataframe thead th {\n",
       "        text-align: right;\n",
       "    }\n",
       "</style>\n",
       "<table border=\"1\" class=\"dataframe\">\n",
       "  <thead>\n",
       "    <tr style=\"text-align: right;\">\n",
       "      <th></th>\n",
       "      <th>X</th>\n",
       "      <th>Y</th>\n",
       "      <th>Z</th>\n",
       "      <th>Gesture</th>\n",
       "      <th>Repetition</th>\n",
       "      <th>User</th>\n",
       "      <th>Day</th>\n",
       "    </tr>\n",
       "  </thead>\n",
       "  <tbody>\n",
       "    <tr>\n",
       "      <th>0</th>\n",
       "      <td>-0.461539</td>\n",
       "      <td>-0.615385</td>\n",
       "      <td>0.08</td>\n",
       "      <td>1</td>\n",
       "      <td>9</td>\n",
       "      <td>1</td>\n",
       "      <td>2</td>\n",
       "    </tr>\n",
       "    <tr>\n",
       "      <th>1</th>\n",
       "      <td>-0.461539</td>\n",
       "      <td>-0.615385</td>\n",
       "      <td>0.08</td>\n",
       "      <td>1</td>\n",
       "      <td>9</td>\n",
       "      <td>1</td>\n",
       "      <td>2</td>\n",
       "    </tr>\n",
       "    <tr>\n",
       "      <th>2</th>\n",
       "      <td>-0.461539</td>\n",
       "      <td>-0.615385</td>\n",
       "      <td>0.08</td>\n",
       "      <td>1</td>\n",
       "      <td>9</td>\n",
       "      <td>1</td>\n",
       "      <td>2</td>\n",
       "    </tr>\n",
       "    <tr>\n",
       "      <th>3</th>\n",
       "      <td>-0.461539</td>\n",
       "      <td>-0.615385</td>\n",
       "      <td>0.08</td>\n",
       "      <td>1</td>\n",
       "      <td>9</td>\n",
       "      <td>1</td>\n",
       "      <td>2</td>\n",
       "    </tr>\n",
       "    <tr>\n",
       "      <th>4</th>\n",
       "      <td>-0.461539</td>\n",
       "      <td>-0.615385</td>\n",
       "      <td>0.08</td>\n",
       "      <td>1</td>\n",
       "      <td>9</td>\n",
       "      <td>1</td>\n",
       "      <td>2</td>\n",
       "    </tr>\n",
       "  </tbody>\n",
       "</table>\n",
       "</div>"
      ],
      "text/plain": [
       "          X         Y     Z Gesture Repetition User Day\n",
       "0 -0.461539 -0.615385  0.08       1          9    1   2\n",
       "1 -0.461539 -0.615385  0.08       1          9    1   2\n",
       "2 -0.461539 -0.615385  0.08       1          9    1   2\n",
       "3 -0.461539 -0.615385  0.08       1          9    1   2\n",
       "4 -0.461539 -0.615385  0.08       1          9    1   2"
      ]
     },
     "execution_count": 5,
     "metadata": {},
     "output_type": "execute_result"
    }
   ],
   "source": [
    "df.head()"
   ]
  },
  {
   "cell_type": "markdown",
   "metadata": {},
   "source": [
    "### Problem: Logistic Regression does not understand the concept of Time Series Data."
   ]
  },
  {
   "cell_type": "code",
   "execution_count": 6,
   "metadata": {},
   "outputs": [
    {
     "data": {
      "text/html": [
       "<div>\n",
       "<style scoped>\n",
       "    .dataframe tbody tr th:only-of-type {\n",
       "        vertical-align: middle;\n",
       "    }\n",
       "\n",
       "    .dataframe tbody tr th {\n",
       "        vertical-align: top;\n",
       "    }\n",
       "\n",
       "    .dataframe thead th {\n",
       "        text-align: right;\n",
       "    }\n",
       "</style>\n",
       "<table border=\"1\" class=\"dataframe\">\n",
       "  <thead>\n",
       "    <tr style=\"text-align: right;\">\n",
       "      <th></th>\n",
       "      <th></th>\n",
       "      <th></th>\n",
       "      <th></th>\n",
       "      <th>X</th>\n",
       "      <th>Y</th>\n",
       "      <th>Z</th>\n",
       "    </tr>\n",
       "    <tr>\n",
       "      <th>User</th>\n",
       "      <th>Day</th>\n",
       "      <th>Gesture</th>\n",
       "      <th>Repetition</th>\n",
       "      <th></th>\n",
       "      <th></th>\n",
       "      <th></th>\n",
       "    </tr>\n",
       "  </thead>\n",
       "  <tbody>\n",
       "    <tr>\n",
       "      <th rowspan=\"5\" valign=\"top\">1</th>\n",
       "      <th rowspan=\"5\" valign=\"top\">1</th>\n",
       "      <th rowspan=\"5\" valign=\"top\">1</th>\n",
       "      <th>1</th>\n",
       "      <td>148</td>\n",
       "      <td>148</td>\n",
       "      <td>148</td>\n",
       "    </tr>\n",
       "    <tr>\n",
       "      <th>10</th>\n",
       "      <td>138</td>\n",
       "      <td>138</td>\n",
       "      <td>138</td>\n",
       "    </tr>\n",
       "    <tr>\n",
       "      <th>2</th>\n",
       "      <td>164</td>\n",
       "      <td>164</td>\n",
       "      <td>164</td>\n",
       "    </tr>\n",
       "    <tr>\n",
       "      <th>3</th>\n",
       "      <td>129</td>\n",
       "      <td>129</td>\n",
       "      <td>129</td>\n",
       "    </tr>\n",
       "    <tr>\n",
       "      <th>4</th>\n",
       "      <td>153</td>\n",
       "      <td>153</td>\n",
       "      <td>153</td>\n",
       "    </tr>\n",
       "    <tr>\n",
       "      <th>...</th>\n",
       "      <th>...</th>\n",
       "      <th>...</th>\n",
       "      <th>...</th>\n",
       "      <td>...</td>\n",
       "      <td>...</td>\n",
       "      <td>...</td>\n",
       "    </tr>\n",
       "    <tr>\n",
       "      <th rowspan=\"5\" valign=\"top\">8</th>\n",
       "      <th rowspan=\"5\" valign=\"top\">7</th>\n",
       "      <th rowspan=\"5\" valign=\"top\">8</th>\n",
       "      <th>5</th>\n",
       "      <td>208</td>\n",
       "      <td>208</td>\n",
       "      <td>208</td>\n",
       "    </tr>\n",
       "    <tr>\n",
       "      <th>6</th>\n",
       "      <td>209</td>\n",
       "      <td>209</td>\n",
       "      <td>209</td>\n",
       "    </tr>\n",
       "    <tr>\n",
       "      <th>7</th>\n",
       "      <td>206</td>\n",
       "      <td>206</td>\n",
       "      <td>206</td>\n",
       "    </tr>\n",
       "    <tr>\n",
       "      <th>8</th>\n",
       "      <td>188</td>\n",
       "      <td>188</td>\n",
       "      <td>188</td>\n",
       "    </tr>\n",
       "    <tr>\n",
       "      <th>9</th>\n",
       "      <td>207</td>\n",
       "      <td>207</td>\n",
       "      <td>207</td>\n",
       "    </tr>\n",
       "  </tbody>\n",
       "</table>\n",
       "<p>4481 rows × 3 columns</p>\n",
       "</div>"
      ],
      "text/plain": [
       "                               X    Y    Z\n",
       "User Day Gesture Repetition               \n",
       "1    1   1       1           148  148  148\n",
       "                 10          138  138  138\n",
       "                 2           164  164  164\n",
       "                 3           129  129  129\n",
       "                 4           153  153  153\n",
       "...                          ...  ...  ...\n",
       "8    7   8       5           208  208  208\n",
       "                 6           209  209  209\n",
       "                 7           206  206  206\n",
       "                 8           188  188  188\n",
       "                 9           207  207  207\n",
       "\n",
       "[4481 rows x 3 columns]"
      ]
     },
     "execution_count": 6,
     "metadata": {},
     "output_type": "execute_result"
    }
   ],
   "source": [
    "df.groupby(['User','Day','Gesture','Repetition']).count()"
   ]
  },
  {
   "cell_type": "markdown",
   "metadata": {},
   "source": [
    "In theory, we could stack all X,Y,Z values to one array, and create one column for each entry, so that one row corresponds to one entire time series, labeled with the corresponding gesture, day, user, and repetition index. \n",
    "\n",
    "However, the length of the different time series is not constant, because the different gestures take different time to complete, and some users might be faster than others. \n",
    "This means that a lot of columns would have zeros for those (imaginary) time stamps where the user does not perform an action. \n",
    "\n",
    "Another approach would be to extract characteristics from the different time series, and only use those as features to the ML model. Let's do this\n"
   ]
  },
  {
   "cell_type": "code",
   "execution_count": 7,
   "metadata": {},
   "outputs": [],
   "source": [
    "df_feats = df.groupby(['User','Day','Gesture','Repetition']).agg(['mean','std','min','max']).reset_index()"
   ]
  },
  {
   "cell_type": "code",
   "execution_count": 8,
   "metadata": {},
   "outputs": [],
   "source": [
    "df_feats.columns = ['User', 'Day','Gesture','Repetition', \n",
    "                    'X_mean','X_std', 'X_min', 'X_max',\n",
    "                    'Y_mean', 'Y_std', 'Y_min', 'Y_max',\n",
    "                    'Z_mean', 'Z_std', 'Z_min', 'Z_max']"
   ]
  },
  {
   "cell_type": "code",
   "execution_count": 9,
   "metadata": {},
   "outputs": [
    {
     "data": {
      "text/html": [
       "<div>\n",
       "<style scoped>\n",
       "    .dataframe tbody tr th:only-of-type {\n",
       "        vertical-align: middle;\n",
       "    }\n",
       "\n",
       "    .dataframe tbody tr th {\n",
       "        vertical-align: top;\n",
       "    }\n",
       "\n",
       "    .dataframe thead th {\n",
       "        text-align: right;\n",
       "    }\n",
       "</style>\n",
       "<table border=\"1\" class=\"dataframe\">\n",
       "  <thead>\n",
       "    <tr style=\"text-align: right;\">\n",
       "      <th></th>\n",
       "      <th>User</th>\n",
       "      <th>Day</th>\n",
       "      <th>Gesture</th>\n",
       "      <th>Repetition</th>\n",
       "      <th>X_mean</th>\n",
       "      <th>X_std</th>\n",
       "      <th>X_min</th>\n",
       "      <th>X_max</th>\n",
       "      <th>Y_mean</th>\n",
       "      <th>Y_std</th>\n",
       "      <th>Y_min</th>\n",
       "      <th>Y_max</th>\n",
       "      <th>Z_mean</th>\n",
       "      <th>Z_std</th>\n",
       "      <th>Z_min</th>\n",
       "      <th>Z_max</th>\n",
       "    </tr>\n",
       "  </thead>\n",
       "  <tbody>\n",
       "    <tr>\n",
       "      <th>0</th>\n",
       "      <td>1</td>\n",
       "      <td>1</td>\n",
       "      <td>1</td>\n",
       "      <td>1</td>\n",
       "      <td>-0.433992</td>\n",
       "      <td>0.421207</td>\n",
       "      <td>-1.769231</td>\n",
       "      <td>0.346154</td>\n",
       "      <td>0.011175</td>\n",
       "      <td>0.378928</td>\n",
       "      <td>-0.576923</td>\n",
       "      <td>0.692308</td>\n",
       "      <td>0.794865</td>\n",
       "      <td>0.352909</td>\n",
       "      <td>0.20</td>\n",
       "      <td>1.56</td>\n",
       "    </tr>\n",
       "    <tr>\n",
       "      <th>1</th>\n",
       "      <td>1</td>\n",
       "      <td>1</td>\n",
       "      <td>1</td>\n",
       "      <td>10</td>\n",
       "      <td>-0.367893</td>\n",
       "      <td>0.320109</td>\n",
       "      <td>-0.923077</td>\n",
       "      <td>0.269231</td>\n",
       "      <td>0.030379</td>\n",
       "      <td>0.367192</td>\n",
       "      <td>-0.461539</td>\n",
       "      <td>0.807692</td>\n",
       "      <td>0.766667</td>\n",
       "      <td>0.534292</td>\n",
       "      <td>-0.20</td>\n",
       "      <td>1.64</td>\n",
       "    </tr>\n",
       "    <tr>\n",
       "      <th>2</th>\n",
       "      <td>1</td>\n",
       "      <td>1</td>\n",
       "      <td>1</td>\n",
       "      <td>2</td>\n",
       "      <td>-0.167917</td>\n",
       "      <td>0.342584</td>\n",
       "      <td>-0.730769</td>\n",
       "      <td>0.423077</td>\n",
       "      <td>0.096154</td>\n",
       "      <td>0.294166</td>\n",
       "      <td>-0.423077</td>\n",
       "      <td>0.500000</td>\n",
       "      <td>0.918780</td>\n",
       "      <td>0.318784</td>\n",
       "      <td>0.40</td>\n",
       "      <td>1.72</td>\n",
       "    </tr>\n",
       "    <tr>\n",
       "      <th>3</th>\n",
       "      <td>1</td>\n",
       "      <td>1</td>\n",
       "      <td>1</td>\n",
       "      <td>3</td>\n",
       "      <td>-0.492248</td>\n",
       "      <td>0.467296</td>\n",
       "      <td>-1.307692</td>\n",
       "      <td>0.500000</td>\n",
       "      <td>0.024150</td>\n",
       "      <td>0.314236</td>\n",
       "      <td>-0.576923</td>\n",
       "      <td>0.500000</td>\n",
       "      <td>0.729302</td>\n",
       "      <td>0.538389</td>\n",
       "      <td>-0.16</td>\n",
       "      <td>1.80</td>\n",
       "    </tr>\n",
       "    <tr>\n",
       "      <th>4</th>\n",
       "      <td>1</td>\n",
       "      <td>1</td>\n",
       "      <td>1</td>\n",
       "      <td>4</td>\n",
       "      <td>-0.206636</td>\n",
       "      <td>0.495147</td>\n",
       "      <td>-0.846154</td>\n",
       "      <td>0.769231</td>\n",
       "      <td>0.146053</td>\n",
       "      <td>0.396388</td>\n",
       "      <td>-0.538462</td>\n",
       "      <td>0.846154</td>\n",
       "      <td>0.777778</td>\n",
       "      <td>0.463962</td>\n",
       "      <td>-0.12</td>\n",
       "      <td>1.56</td>\n",
       "    </tr>\n",
       "  </tbody>\n",
       "</table>\n",
       "</div>"
      ],
      "text/plain": [
       "  User Day Gesture Repetition    X_mean     X_std     X_min     X_max  \\\n",
       "0    1   1       1          1 -0.433992  0.421207 -1.769231  0.346154   \n",
       "1    1   1       1         10 -0.367893  0.320109 -0.923077  0.269231   \n",
       "2    1   1       1          2 -0.167917  0.342584 -0.730769  0.423077   \n",
       "3    1   1       1          3 -0.492248  0.467296 -1.307692  0.500000   \n",
       "4    1   1       1          4 -0.206636  0.495147 -0.846154  0.769231   \n",
       "\n",
       "     Y_mean     Y_std     Y_min     Y_max    Z_mean     Z_std  Z_min  Z_max  \n",
       "0  0.011175  0.378928 -0.576923  0.692308  0.794865  0.352909   0.20   1.56  \n",
       "1  0.030379  0.367192 -0.461539  0.807692  0.766667  0.534292  -0.20   1.64  \n",
       "2  0.096154  0.294166 -0.423077  0.500000  0.918780  0.318784   0.40   1.72  \n",
       "3  0.024150  0.314236 -0.576923  0.500000  0.729302  0.538389  -0.16   1.80  \n",
       "4  0.146053  0.396388 -0.538462  0.846154  0.777778  0.463962  -0.12   1.56  "
      ]
     },
     "execution_count": 9,
     "metadata": {},
     "output_type": "execute_result"
    }
   ],
   "source": [
    "df_feats.head()"
   ]
  },
  {
   "cell_type": "markdown",
   "metadata": {},
   "source": [
    "## EDA"
   ]
  },
  {
   "cell_type": "code",
   "execution_count": 10,
   "metadata": {},
   "outputs": [
    {
     "name": "stdout",
     "output_type": "stream",
     "text": [
      "<class 'pandas.core.frame.DataFrame'>\n",
      "RangeIndex: 4481 entries, 0 to 4480\n",
      "Data columns (total 16 columns):\n",
      " #   Column      Non-Null Count  Dtype  \n",
      "---  ------      --------------  -----  \n",
      " 0   User        4481 non-null   object \n",
      " 1   Day         4481 non-null   object \n",
      " 2   Gesture     4481 non-null   object \n",
      " 3   Repetition  4481 non-null   object \n",
      " 4   X_mean      4481 non-null   float64\n",
      " 5   X_std       4479 non-null   float64\n",
      " 6   X_min       4481 non-null   float64\n",
      " 7   X_max       4481 non-null   float64\n",
      " 8   Y_mean      4481 non-null   float64\n",
      " 9   Y_std       4479 non-null   float64\n",
      " 10  Y_min       4481 non-null   float64\n",
      " 11  Y_max       4481 non-null   float64\n",
      " 12  Z_mean      4481 non-null   float64\n",
      " 13  Z_std       4479 non-null   float64\n",
      " 14  Z_min       4481 non-null   float64\n",
      " 15  Z_max       4481 non-null   float64\n",
      "dtypes: float64(12), object(4)\n",
      "memory usage: 560.2+ KB\n"
     ]
    }
   ],
   "source": [
    "df_feats.info()"
   ]
  },
  {
   "cell_type": "code",
   "execution_count": 11,
   "metadata": {},
   "outputs": [],
   "source": [
    "df_feats = df_feats.dropna()"
   ]
  },
  {
   "cell_type": "code",
   "execution_count": 12,
   "metadata": {},
   "outputs": [
    {
     "data": {
      "text/html": [
       "<div>\n",
       "<style scoped>\n",
       "    .dataframe tbody tr th:only-of-type {\n",
       "        vertical-align: middle;\n",
       "    }\n",
       "\n",
       "    .dataframe tbody tr th {\n",
       "        vertical-align: top;\n",
       "    }\n",
       "\n",
       "    .dataframe thead th {\n",
       "        text-align: right;\n",
       "    }\n",
       "</style>\n",
       "<table border=\"1\" class=\"dataframe\">\n",
       "  <thead>\n",
       "    <tr style=\"text-align: right;\">\n",
       "      <th></th>\n",
       "      <th>X_mean</th>\n",
       "      <th>X_std</th>\n",
       "      <th>X_min</th>\n",
       "      <th>X_max</th>\n",
       "      <th>Y_mean</th>\n",
       "      <th>Y_std</th>\n",
       "      <th>Y_min</th>\n",
       "      <th>Y_max</th>\n",
       "      <th>Z_mean</th>\n",
       "      <th>Z_std</th>\n",
       "      <th>Z_min</th>\n",
       "      <th>Z_max</th>\n",
       "    </tr>\n",
       "  </thead>\n",
       "  <tbody>\n",
       "    <tr>\n",
       "      <th>count</th>\n",
       "      <td>4479.000000</td>\n",
       "      <td>4479.000000</td>\n",
       "      <td>4479.000000</td>\n",
       "      <td>4479.000000</td>\n",
       "      <td>4479.000000</td>\n",
       "      <td>4479.000000</td>\n",
       "      <td>4479.000000</td>\n",
       "      <td>4479.000000</td>\n",
       "      <td>4479.000000</td>\n",
       "      <td>4479.000000</td>\n",
       "      <td>4479.00000</td>\n",
       "      <td>4479.000000</td>\n",
       "    </tr>\n",
       "    <tr>\n",
       "      <th>mean</th>\n",
       "      <td>-0.033760</td>\n",
       "      <td>0.485695</td>\n",
       "      <td>-0.895349</td>\n",
       "      <td>0.833445</td>\n",
       "      <td>0.245417</td>\n",
       "      <td>0.361701</td>\n",
       "      <td>-0.326644</td>\n",
       "      <td>0.920604</td>\n",
       "      <td>0.926069</td>\n",
       "      <td>0.588393</td>\n",
       "      <td>-0.02605</td>\n",
       "      <td>2.019486</td>\n",
       "    </tr>\n",
       "    <tr>\n",
       "      <th>std</th>\n",
       "      <td>0.258672</td>\n",
       "      <td>0.265266</td>\n",
       "      <td>0.586020</td>\n",
       "      <td>0.514195</td>\n",
       "      <td>0.282715</td>\n",
       "      <td>0.179254</td>\n",
       "      <td>0.328216</td>\n",
       "      <td>0.567640</td>\n",
       "      <td>0.209078</td>\n",
       "      <td>0.335493</td>\n",
       "      <td>0.58264</td>\n",
       "      <td>0.674650</td>\n",
       "    </tr>\n",
       "    <tr>\n",
       "      <th>min</th>\n",
       "      <td>-1.226297</td>\n",
       "      <td>0.017804</td>\n",
       "      <td>-4.230769</td>\n",
       "      <td>-0.615385</td>\n",
       "      <td>-0.452771</td>\n",
       "      <td>0.018579</td>\n",
       "      <td>-2.576923</td>\n",
       "      <td>-0.346154</td>\n",
       "      <td>-0.462609</td>\n",
       "      <td>0.000000</td>\n",
       "      <td>-2.72000</td>\n",
       "      <td>0.040000</td>\n",
       "    </tr>\n",
       "    <tr>\n",
       "      <th>25%</th>\n",
       "      <td>-0.130807</td>\n",
       "      <td>0.289187</td>\n",
       "      <td>-1.269231</td>\n",
       "      <td>0.461539</td>\n",
       "      <td>0.057322</td>\n",
       "      <td>0.234166</td>\n",
       "      <td>-0.538462</td>\n",
       "      <td>0.538462</td>\n",
       "      <td>0.863336</td>\n",
       "      <td>0.334499</td>\n",
       "      <td>-0.40000</td>\n",
       "      <td>1.480000</td>\n",
       "    </tr>\n",
       "    <tr>\n",
       "      <th>50%</th>\n",
       "      <td>0.010747</td>\n",
       "      <td>0.481407</td>\n",
       "      <td>-0.846154</td>\n",
       "      <td>0.769231</td>\n",
       "      <td>0.205556</td>\n",
       "      <td>0.336024</td>\n",
       "      <td>-0.307692</td>\n",
       "      <td>0.807692</td>\n",
       "      <td>0.952500</td>\n",
       "      <td>0.579105</td>\n",
       "      <td>-0.08000</td>\n",
       "      <td>1.960000</td>\n",
       "    </tr>\n",
       "    <tr>\n",
       "      <th>75%</th>\n",
       "      <td>0.114677</td>\n",
       "      <td>0.653231</td>\n",
       "      <td>-0.423077</td>\n",
       "      <td>1.153846</td>\n",
       "      <td>0.371041</td>\n",
       "      <td>0.453672</td>\n",
       "      <td>-0.115385</td>\n",
       "      <td>1.192308</td>\n",
       "      <td>1.010109</td>\n",
       "      <td>0.811310</td>\n",
       "      <td>0.44000</td>\n",
       "      <td>2.440000</td>\n",
       "    </tr>\n",
       "    <tr>\n",
       "      <th>max</th>\n",
       "      <td>0.920815</td>\n",
       "      <td>1.542044</td>\n",
       "      <td>0.692308</td>\n",
       "      <td>3.230769</td>\n",
       "      <td>1.855769</td>\n",
       "      <td>1.565605</td>\n",
       "      <td>1.115385</td>\n",
       "      <td>3.961539</td>\n",
       "      <td>2.755556</td>\n",
       "      <td>1.964370</td>\n",
       "      <td>1.96000</td>\n",
       "      <td>4.560000</td>\n",
       "    </tr>\n",
       "  </tbody>\n",
       "</table>\n",
       "</div>"
      ],
      "text/plain": [
       "            X_mean        X_std        X_min        X_max       Y_mean  \\\n",
       "count  4479.000000  4479.000000  4479.000000  4479.000000  4479.000000   \n",
       "mean     -0.033760     0.485695    -0.895349     0.833445     0.245417   \n",
       "std       0.258672     0.265266     0.586020     0.514195     0.282715   \n",
       "min      -1.226297     0.017804    -4.230769    -0.615385    -0.452771   \n",
       "25%      -0.130807     0.289187    -1.269231     0.461539     0.057322   \n",
       "50%       0.010747     0.481407    -0.846154     0.769231     0.205556   \n",
       "75%       0.114677     0.653231    -0.423077     1.153846     0.371041   \n",
       "max       0.920815     1.542044     0.692308     3.230769     1.855769   \n",
       "\n",
       "             Y_std        Y_min        Y_max       Z_mean        Z_std  \\\n",
       "count  4479.000000  4479.000000  4479.000000  4479.000000  4479.000000   \n",
       "mean      0.361701    -0.326644     0.920604     0.926069     0.588393   \n",
       "std       0.179254     0.328216     0.567640     0.209078     0.335493   \n",
       "min       0.018579    -2.576923    -0.346154    -0.462609     0.000000   \n",
       "25%       0.234166    -0.538462     0.538462     0.863336     0.334499   \n",
       "50%       0.336024    -0.307692     0.807692     0.952500     0.579105   \n",
       "75%       0.453672    -0.115385     1.192308     1.010109     0.811310   \n",
       "max       1.565605     1.115385     3.961539     2.755556     1.964370   \n",
       "\n",
       "            Z_min        Z_max  \n",
       "count  4479.00000  4479.000000  \n",
       "mean     -0.02605     2.019486  \n",
       "std       0.58264     0.674650  \n",
       "min      -2.72000     0.040000  \n",
       "25%      -0.40000     1.480000  \n",
       "50%      -0.08000     1.960000  \n",
       "75%       0.44000     2.440000  \n",
       "max       1.96000     4.560000  "
      ]
     },
     "execution_count": 12,
     "metadata": {},
     "output_type": "execute_result"
    }
   ],
   "source": [
    "df_feats.describe()"
   ]
  },
  {
   "cell_type": "markdown",
   "metadata": {},
   "source": [
    "We can see some outliers which either don't make sense or indicate incredibly fast movements"
   ]
  },
  {
   "cell_type": "code",
   "execution_count": 13,
   "metadata": {},
   "outputs": [
    {
     "data": {
      "text/html": [
       "<div>\n",
       "<style scoped>\n",
       "    .dataframe tbody tr th:only-of-type {\n",
       "        vertical-align: middle;\n",
       "    }\n",
       "\n",
       "    .dataframe tbody tr th {\n",
       "        vertical-align: top;\n",
       "    }\n",
       "\n",
       "    .dataframe thead th {\n",
       "        text-align: right;\n",
       "    }\n",
       "</style>\n",
       "<table border=\"1\" class=\"dataframe\">\n",
       "  <thead>\n",
       "    <tr style=\"text-align: right;\">\n",
       "      <th></th>\n",
       "      <th>User</th>\n",
       "      <th>Day</th>\n",
       "      <th>Gesture</th>\n",
       "      <th>Repetition</th>\n",
       "    </tr>\n",
       "  </thead>\n",
       "  <tbody>\n",
       "    <tr>\n",
       "      <th>count</th>\n",
       "      <td>4479</td>\n",
       "      <td>4479</td>\n",
       "      <td>4479</td>\n",
       "      <td>4479</td>\n",
       "    </tr>\n",
       "    <tr>\n",
       "      <th>unique</th>\n",
       "      <td>8</td>\n",
       "      <td>7</td>\n",
       "      <td>8</td>\n",
       "      <td>11</td>\n",
       "    </tr>\n",
       "    <tr>\n",
       "      <th>top</th>\n",
       "      <td>1</td>\n",
       "      <td>1</td>\n",
       "      <td>3</td>\n",
       "      <td>1</td>\n",
       "    </tr>\n",
       "    <tr>\n",
       "      <th>freq</th>\n",
       "      <td>561</td>\n",
       "      <td>640</td>\n",
       "      <td>561</td>\n",
       "      <td>448</td>\n",
       "    </tr>\n",
       "  </tbody>\n",
       "</table>\n",
       "</div>"
      ],
      "text/plain": [
       "        User   Day Gesture Repetition\n",
       "count   4479  4479    4479       4479\n",
       "unique     8     7       8         11\n",
       "top        1     1       3          1\n",
       "freq     561   640     561        448"
      ]
     },
     "execution_count": 13,
     "metadata": {},
     "output_type": "execute_result"
    }
   ],
   "source": [
    "df_feats.describe(include='object')"
   ]
  },
  {
   "cell_type": "code",
   "execution_count": 14,
   "metadata": {},
   "outputs": [
    {
     "data": {
      "text/plain": [
       "3    561\n",
       "2    560\n",
       "4    560\n",
       "5    560\n",
       "6    560\n",
       "8    560\n",
       "1    559\n",
       "7    559\n",
       "Name: Gesture, dtype: int64"
      ]
     },
     "execution_count": 14,
     "metadata": {},
     "output_type": "execute_result"
    },
    {
     "data": {
      "image/png": "[encoded data removed]",
      "text/plain": [
       "<Figure size 640x480 with 1 Axes>"
      ]
     },
     "metadata": {},
     "output_type": "display_data"
    }
   ],
   "source": [
    "sns.countplot(x='Gesture', data=df_feats)\n",
    "df_feats.select_dtypes(include='object')['Gesture'].value_counts()"
   ]
  },
  {
   "cell_type": "markdown",
   "metadata": {},
   "source": [
    "The gesture labels are (nearly) equally distributed, which is good news! Class imbalance is harder for some models to cope with"
   ]
  },
  {
   "cell_type": "code",
   "execution_count": 15,
   "metadata": {},
   "outputs": [
    {
     "data": {
      "text/plain": [
       "<Axes: >"
      ]
     },
     "execution_count": 15,
     "metadata": {},
     "output_type": "execute_result"
    },
    {
     "data": {
      "image/png": "[encoded data removed]",
      "text/plain": [
       "<Figure size 1600x700 with 2 Axes>"
      ]
     },
     "metadata": {},
     "output_type": "display_data"
    }
   ],
   "source": [
    "plt.figure(figsize=(16,7))\n",
    "sns.heatmap(df_feats.corr(), annot=False, cmap='coolwarm')"
   ]
  },
  {
   "cell_type": "markdown",
   "metadata": {},
   "source": [
    "the correlations look good. With variance, Quantiles and Median, the multicollinearity of features is much more severe. "
   ]
  },
  {
   "cell_type": "code",
   "execution_count": 16,
   "metadata": {},
   "outputs": [
    {
     "data": {
      "text/plain": [
       "<Axes: xlabel='X_mean', ylabel='Count'>"
      ]
     },
     "execution_count": 16,
     "metadata": {},
     "output_type": "execute_result"
    },
    {
     "data": {
      "image/png": "[encoded data removed]",
      "text/plain": [
       "<Figure size 640x480 with 1 Axes>"
      ]
     },
     "metadata": {},
     "output_type": "display_data"
    }
   ],
   "source": [
    "sns.histplot(x='X_mean', data=df_feats, bins=100, kde=True)"
   ]
  },
  {
   "cell_type": "code",
   "execution_count": 17,
   "metadata": {},
   "outputs": [
    {
     "data": {
      "text/plain": [
       "<Axes: xlabel='Gesture', ylabel='X_mean'>"
      ]
     },
     "execution_count": 17,
     "metadata": {},
     "output_type": "execute_result"
    },
    {
     "data": {
      "image/png": "[encoded data removed]",
      "text/plain": [
       "<Figure size 640x480 with 1 Axes>"
      ]
     },
     "metadata": {},
     "output_type": "display_data"
    }
   ],
   "source": [
    "sns.boxplot(x='Gesture', y='X_mean', data=df_feats)"
   ]
  },
  {
   "cell_type": "code",
   "execution_count": 18,
   "metadata": {},
   "outputs": [
    {
     "data": {
      "text/plain": [
       "<Axes: xlabel='Gesture', ylabel='Y_mean'>"
      ]
     },
     "execution_count": 18,
     "metadata": {},
     "output_type": "execute_result"
    },
    {
     "data": {
      "image/png": "[encoded data removed]",
      "text/plain": [
       "<Figure size 640x480 with 1 Axes>"
      ]
     },
     "metadata": {},
     "output_type": "display_data"
    }
   ],
   "source": [
    "sns.boxplot(x='Gesture', y='Y_mean', data=df_feats)"
   ]
  },
  {
   "cell_type": "code",
   "execution_count": 19,
   "metadata": {},
   "outputs": [
    {
     "data": {
      "text/plain": [
       "<Axes: xlabel='Gesture', ylabel='Z_mean'>"
      ]
     },
     "execution_count": 19,
     "metadata": {},
     "output_type": "execute_result"
    },
    {
     "data": {
      "image/png": "[encoded data removed]",
      "text/plain": [
       "<Figure size 640x480 with 1 Axes>"
      ]
     },
     "metadata": {},
     "output_type": "display_data"
    }
   ],
   "source": [
    "sns.boxplot(x='Gesture', y='Z_mean', data=df_feats)"
   ]
  },
  {
   "cell_type": "markdown",
   "metadata": {},
   "source": [
    "Identified Outliers: X_mean > 0.8, Y_mean > 1.5, Z_mean > 1.6"
   ]
  },
  {
   "cell_type": "code",
   "execution_count": 20,
   "metadata": {},
   "outputs": [
    {
     "data": {
      "text/plain": [
       "<Axes: xlabel='Gesture', ylabel='X_max'>"
      ]
     },
     "execution_count": 20,
     "metadata": {},
     "output_type": "execute_result"
    },
    {
     "data": {
      "image/png": "[encoded data removed]",
      "text/plain": [
       "<Figure size 640x480 with 1 Axes>"
      ]
     },
     "metadata": {},
     "output_type": "display_data"
    }
   ],
   "source": [
    "sns.boxplot(x='Gesture', y='X_max', data=df_feats)"
   ]
  },
  {
   "cell_type": "code",
   "execution_count": 21,
   "metadata": {},
   "outputs": [
    {
     "data": {
      "text/plain": [
       "<Axes: xlabel='Gesture', ylabel='Y_max'>"
      ]
     },
     "execution_count": 21,
     "metadata": {},
     "output_type": "execute_result"
    },
    {
     "data": {
      "image/png": "[encoded data removed]",
      "text/plain": [
       "<Figure size 640x480 with 1 Axes>"
      ]
     },
     "metadata": {},
     "output_type": "display_data"
    }
   ],
   "source": [
    "sns.boxplot(x='Gesture', y='Y_max', data=df_feats)"
   ]
  },
  {
   "cell_type": "code",
   "execution_count": 22,
   "metadata": {},
   "outputs": [
    {
     "data": {
      "text/plain": [
       "<Axes: xlabel='Gesture', ylabel='Z_max'>"
      ]
     },
     "execution_count": 22,
     "metadata": {},
     "output_type": "execute_result"
    },
    {
     "data": {
      "image/png": "[encoded data removed]",
      "text/plain": [
       "<Figure size 640x480 with 1 Axes>"
      ]
     },
     "metadata": {},
     "output_type": "display_data"
    }
   ],
   "source": [
    "sns.boxplot(x='Gesture', y='Z_max', data=df_feats)"
   ]
  },
  {
   "cell_type": "markdown",
   "metadata": {},
   "source": [
    "Outliers: X_max > 3, Y_max > 3.5"
   ]
  },
  {
   "cell_type": "code",
   "execution_count": 23,
   "metadata": {},
   "outputs": [
    {
     "data": {
      "text/plain": [
       "<Axes: xlabel='Gesture', ylabel='X_min'>"
      ]
     },
     "execution_count": 23,
     "metadata": {},
     "output_type": "execute_result"
    },
    {
     "data": {
      "image/png": "[encoded data removed]",
      "text/plain": [
       "<Figure size 640x480 with 1 Axes>"
      ]
     },
     "metadata": {},
     "output_type": "display_data"
    }
   ],
   "source": [
    "sns.boxplot(x='Gesture', y='X_min', data=df_feats)"
   ]
  },
  {
   "cell_type": "code",
   "execution_count": 24,
   "metadata": {},
   "outputs": [
    {
     "data": {
      "text/plain": [
       "<Axes: xlabel='Gesture', ylabel='Y_min'>"
      ]
     },
     "execution_count": 24,
     "metadata": {},
     "output_type": "execute_result"
    },
    {
     "data": {
      "image/png": "[encoded data removed]",
      "text/plain": [
       "<Figure size 640x480 with 1 Axes>"
      ]
     },
     "metadata": {},
     "output_type": "display_data"
    }
   ],
   "source": [
    "sns.boxplot(x='Gesture', y='Y_min', data=df_feats)"
   ]
  },
  {
   "cell_type": "code",
   "execution_count": 25,
   "metadata": {},
   "outputs": [
    {
     "data": {
      "text/plain": [
       "<Axes: xlabel='Gesture', ylabel='Z_min'>"
      ]
     },
     "execution_count": 25,
     "metadata": {},
     "output_type": "execute_result"
    },
    {
     "data": {
      "image/png": "[encoded data removed]",
      "text/plain": [
       "<Figure size 640x480 with 1 Axes>"
      ]
     },
     "metadata": {},
     "output_type": "display_data"
    }
   ],
   "source": [
    "sns.boxplot(x='Gesture', y='Z_min', data=df_feats)"
   ]
  },
  {
   "cell_type": "markdown",
   "metadata": {},
   "source": [
    "Outliers: X_min < 3.8, Y_min < 2, Z_min < 2.4"
   ]
  },
  {
   "cell_type": "markdown",
   "metadata": {},
   "source": [
    "## Drop Outliers"
   ]
  },
  {
   "cell_type": "code",
   "execution_count": 26,
   "metadata": {},
   "outputs": [],
   "source": [
    "df_feats = df_feats[(df_feats['X_mean'] < 0.8) & (df_feats['Y_mean'] < 1.5) & (df_feats['Z_mean'] < 1.6) & \n",
    "                    (df_feats['X_max'] < 3) & (df_feats['Y_max'] < 3.5) & \n",
    "                    (df_feats['X_min'] > -3.8) & (df_feats['Y_min'] > -2.5) & (df_feats['Z_min'] > -2.4)]"
   ]
  },
  {
   "cell_type": "markdown",
   "metadata": {},
   "source": [
    "## Modeling"
   ]
  },
  {
   "cell_type": "code",
   "execution_count": 27,
   "metadata": {},
   "outputs": [],
   "source": [
    "df_feats['Gesture'] = df_feats['Gesture'].astype('int')"
   ]
  },
  {
   "cell_type": "code",
   "execution_count": 28,
   "metadata": {},
   "outputs": [],
   "source": [
    "from sklearn.linear_model import LogisticRegression\n",
    "from sklearn.ensemble import RandomForestClassifier\n",
    "from sklearn.model_selection import train_test_split\n",
    "from sklearn.metrics import classification_report, accuracy_score\n",
    "from sklearn.preprocessing import StandardScaler\n",
    "from sklearn.pipeline import make_pipeline"
   ]
  },
  {
   "cell_type": "code",
   "execution_count": 29,
   "metadata": {},
   "outputs": [],
   "source": [
    "X = df_feats.drop(['User','Day','Gesture','Repetition'], axis=1)\n",
    "y = df_feats['Gesture']\n",
    "\n",
    "X_train, X_test, y_train, y_test = train_test_split(X, y, test_size=0.2, random_state=42)"
   ]
  },
  {
   "cell_type": "code",
   "execution_count": 30,
   "metadata": {},
   "outputs": [],
   "source": [
    "logreg = make_pipeline(StandardScaler(), LogisticRegression(multi_class='multinomial', max_iter=3000))\n",
    "rfc = RandomForestClassifier(n_estimators=100)"
   ]
  },
  {
   "cell_type": "code",
   "execution_count": 31,
   "metadata": {},
   "outputs": [],
   "source": [
    "logreg.fit(X_train, y_train)\n",
    "y_pred_logreg = logreg.predict(X_test)\n",
    "\n",
    "rfc.fit(X_train, y_train)\n",
    "y_pred_rfc = rfc.predict(X_test)"
   ]
  },
  {
   "cell_type": "code",
   "execution_count": 32,
   "metadata": {},
   "outputs": [
    {
     "name": "stdout",
     "output_type": "stream",
     "text": [
      "              precision    recall  f1-score   support\n",
      "\n",
      "           1       0.64      0.71      0.67       118\n",
      "           2       0.77      0.83      0.80       111\n",
      "           3       0.57      0.61      0.59        96\n",
      "           4       0.74      0.65      0.69       124\n",
      "           5       0.64      0.69      0.66        99\n",
      "           6       0.67      0.57      0.62       101\n",
      "           7       0.55      0.55      0.55       119\n",
      "           8       0.64      0.61      0.62       114\n",
      "\n",
      "    accuracy                           0.65       882\n",
      "   macro avg       0.65      0.65      0.65       882\n",
      "weighted avg       0.65      0.65      0.65       882\n",
      "\n"
     ]
    }
   ],
   "source": [
    "print(classification_report(y_test, y_pred_logreg))"
   ]
  },
  {
   "cell_type": "code",
   "execution_count": 33,
   "metadata": {},
   "outputs": [
    {
     "data": {
      "text/plain": [
       "0.7213393870601589"
      ]
     },
     "execution_count": 33,
     "metadata": {},
     "output_type": "execute_result"
    }
   ],
   "source": [
    "# on training data\n",
    "accuracy_score(y_train, logreg.predict(X_train)) #Underfitting"
   ]
  },
  {
   "cell_type": "code",
   "execution_count": 34,
   "metadata": {},
   "outputs": [
    {
     "name": "stdout",
     "output_type": "stream",
     "text": [
      "              precision    recall  f1-score   support\n",
      "\n",
      "           1       0.75      0.83      0.79       118\n",
      "           2       0.82      0.84      0.83       111\n",
      "           3       0.72      0.86      0.79        96\n",
      "           4       0.91      0.73      0.81       124\n",
      "           5       0.84      0.88      0.86        99\n",
      "           6       0.87      0.82      0.85       101\n",
      "           7       0.81      0.71      0.76       119\n",
      "           8       0.79      0.83      0.81       114\n",
      "\n",
      "    accuracy                           0.81       882\n",
      "   macro avg       0.81      0.81      0.81       882\n",
      "weighted avg       0.82      0.81      0.81       882\n",
      "\n"
     ]
    }
   ],
   "source": [
    "print(classification_report(y_test, y_pred_rfc))"
   ]
  },
  {
   "cell_type": "code",
   "execution_count": 35,
   "metadata": {},
   "outputs": [
    {
     "data": {
      "text/plain": [
       "1.0"
      ]
     },
     "execution_count": 35,
     "metadata": {},
     "output_type": "execute_result"
    }
   ],
   "source": [
    "# on training data\n",
    "accuracy_score(y_train, rfc.predict(X_train))"
   ]
  },
  {
   "cell_type": "markdown",
   "metadata": {},
   "source": [
    "## Random Forest outperforms Logistic Regression significantly\n",
    "\n",
    "### We could also try to optimize the logistic regression model. Not an option: the features are close to zero, so methods like Log-Transform or Box-Cox do not work\n",
    "### Also, we could run a cross validation instead of a simple train test split."
   ]
  },
  {
   "cell_type": "markdown",
   "metadata": {},
   "source": []
  }
 ],
 "metadata": {
  "kernelspec": {
   "display_name": "base",
   "language": "python",
   "name": "python3"
  },
  "language_info": {
   "codemirror_mode": {
    "name": "ipython",
    "version": 3
   },
   "file_extension": ".py",
   "mimetype": "text/x-python",
   "name": "python",
   "nbconvert_exporter": "python",
   "pygments_lexer": "ipython3",
   "version": "3.9.13"
  }
 },
 "nbformat": 4,
 "nbformat_minor": 2
}
